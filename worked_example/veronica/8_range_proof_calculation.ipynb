{
 "cells": [
  {
   "attachments": {},
   "cell_type": "markdown",
   "metadata": {},
   "source": [
    "# VIII. Amounts balance and range proofs\n",
    "\n",
    "Veronic sees a new transaction in the mempool and needs to validate it prior to adding it to a new block template.\n",
    "\n",
    "There are two primary goal for this section:\n",
    "1. Confirming output amounts equal pseudo-commitment\n",
    "2. Ensuring all outputs are non-negative (NOT STARTED)\n",
    "\n",
    "This section relies heavliy on the following source:\n",
    "* [Zero to Monero: Second Edition; Chapter 5](https://www.getmonero.org/library/Zero-to-Monero-2-0-0.pdf)\n",
    "\n",
    "**It is highly recommended that the reader read chapter 6 of _Zero to Monero: Second Edition_ prior to reading the following sections.**\n",
    "\n",
    "The sections below cover:\n",
    "1. retreiving commitments from transaction data\n",
    "2. confirming outputs equal pseudo-commitment\n",
    "3. ensure all outputs are non-negative (NOT STARTED)\n"
   ]
  },
  {
   "attachments": {},
   "cell_type": "markdown",
   "metadata": {},
   "source": [
    "### Summary (Introduction)\n",
    "**What we start with from transaction data:**\n",
    "* transaction outputs\n",
    "* pseudo-commitment\n",
    "* bulletproof+ proving data\n",
    "\n",
    "**What we end up with:**\n",
    "* TO BE COMPLETED"
   ]
  },
  {
   "attachments": {},
   "cell_type": "markdown",
   "metadata": {},
   "source": [
    "## 1. Retrieving commitments from transaction data"
   ]
  },
  {
   "cell_type": "code",
   "execution_count": 2,
   "metadata": {},
   "outputs": [
    {
     "name": "stdout",
     "output_type": "stream",
     "text": [
      "Commitments: ['8d34848196e903ba8f9ff13d57402ee4e845aba06dbd2aee382f20c9ac866157', '3921477a4506f7eddde7ff228f05d8026525276dce1880b3d57e540836ccc8d1']\n",
      "Transaction fee: 30720000\n",
      "Pseudo-commitment: 57340efcce4b3b7fb210de30439fb2fca501284c73411ce657db8f7f03d232e3\n"
     ]
    }
   ],
   "source": [
    "'''\n",
    "Zero to Monero: Second Edition; Section 5.3\n",
    "'''\n",
    "\n",
    "\n",
    "'''\n",
    "To retrieve commitment data this code performs the following:\n",
    "\n",
    "  1. Reads a saved transaction file to json\n",
    "  2. Reads sections of the json to variables\n",
    "'''\n",
    "\n",
    "import json\n",
    "\n",
    "# read data directly from the saved transaction (Alice -> Bob)\n",
    "with open(\"../transactions/outbound/txn_9e29.json\", \"r\") as file:\n",
    "    txn = json.load(file)\n",
    "\n",
    "\n",
    "# ring members selected by wallet software when Alice actually sent to Bob\n",
    "commitments = txn[\"rct_signatures\"][\"outPk\"]\n",
    "transaction_fee = txn[\"rct_signatures\"][\"txnFee\"]\n",
    "pseudo_commitment = txn[\"rctsig_prunable\"][\"pseudoOuts\"][0]\n",
    "\n",
    "print(f\"Commitments: {commitments}\")\n",
    "print(f\"Transaction fee: {transaction_fee}\")\n",
    "print(f\"Pseudo-commitment: {pseudo_commitment}\")"
   ]
  },
  {
   "attachments": {},
   "cell_type": "markdown",
   "metadata": {},
   "source": [
    "## 2. Confirming outputs equal pseudo-commitment\n",
    "\n",
    "Without knowing amounts, Veronica can add and subtract commitments. She can add all of the output commitments, add in transaction fees, and then confirm that the sum of these is equal to the pseudo-commitment in the transaction data."
   ]
  },
  {
   "cell_type": "code",
   "execution_count": 3,
   "metadata": {},
   "outputs": [
    {
     "name": "stdout",
     "output_type": "stream",
     "text": [
      "Outputs plus transaction fee: 57340efcce4b3b7fb210de30439fb2fca501284c73411ce657db8f7f03d232e3\n",
      "Pseudo-commitments: 57340efcce4b3b7fb210de30439fb2fca501284c73411ce657db8f7f03d232e3\n",
      "Difference between the above two entries: 0100000000000000000000000000000000000000000000000000000000000000\n",
      "Outpus plus transaction fee equals pseudo-commitments? : True\n"
     ]
    }
   ],
   "source": [
    "'''\n",
    "Zero to Monero: Second Edition; Section 5.3\n",
    "'''\n",
    "\n",
    "\n",
    "'''\n",
    "To confirm outputs equal pseudo-commitment this code performs the following:\n",
    "\n",
    "  1. Recreates the point H\n",
    "  2. Recreates the transaction fee commitment (bH)\n",
    "  3. Adds all outputs commitments including the transaction fee\n",
    "  4. Compares this sum to the pseudo-commitment\n",
    "'''\n",
    "\n",
    "import nacl.bindings\n",
    "\n",
    "from Cryptodome.Hash import keccak\n",
    "from binascii import hexlify, unhexlify\n",
    "\n",
    "\n",
    "# define a function to return a hashed byte string\n",
    "def keccak_256(data):\n",
    "    return keccak.new(digest_bits=256).update(data).digest()\n",
    "\n",
    "\n",
    "# define a function to multiply a scalar by the base point G\n",
    "scalar_mult_G = nacl.bindings.crypto_scalarmult_ed25519_base_noclamp\n",
    "\n",
    "# define a function that allows multiplying a curve point by a scalar (eg: integer)\n",
    "scalar_point_mult = nacl.bindings.crypto_scalarmult_ed25519_noclamp\n",
    "\n",
    "# define a function to add to curve points\n",
    "point_add = nacl.bindings.crypto_core_ed25519_add\n",
    "\n",
    "# define a function to subtract to curve points\n",
    "point_sub = nacl.bindings.crypto_core_ed25519_sub\n",
    "\n",
    "\n",
    "# recreate the curve point H\n",
    "cofactor = int(8).to_bytes(32, byteorder=\"little\")\n",
    "G = scalar_mult_G(int(1).to_bytes(32, byteorder=\"little\"))\n",
    "H = keccak_256(G)\n",
    "H = scalar_point_mult(cofactor, H)\n",
    "\n",
    "\n",
    "# calculate fH (txn_fee * H)\n",
    "txn_fee = int(transaction_fee).to_bytes(32, byteorder=\"little\")\n",
    "fH = scalar_point_mult(txn_fee, H)\n",
    "\n",
    "\n",
    "# add output commitments [sum(y) * G + sum(b) * H]\n",
    "commitments_plus_transaction_fee = point_add(unhexlify(commitments[0]), unhexlify(commitments[1]))\n",
    "commitments_plus_transaction_fee = point_add(commitments_plus_transaction_fee, fH)\n",
    "\n",
    "\n",
    "# check if outputs plus transaction fee equals pseudo commitment\n",
    "output_check = hexlify(commitments_plus_transaction_fee).decode() == pseudo_commitment\n",
    "\n",
    "# calculate C' - C\n",
    "outputs_less_pseudo_commitment = hexlify(point_sub(unhexlify(pseudo_commitment), commitments_plus_transaction_fee)).decode()\n",
    "\n",
    "\n",
    "\n",
    "print(f\"Outputs plus transaction fee: {hexlify(commitments_plus_transaction_fee).decode()}\")\n",
    "print(f\"Pseudo-commitments: {pseudo_commitment}\")\n",
    "print(f\"Difference between the above two entries: {outputs_less_pseudo_commitment}\")\n",
    "print(f\"Outpus plus transaction fee equals pseudo-commitments? : {output_check}\")"
   ]
  }
 ],
 "metadata": {
  "kernelspec": {
   "display_name": "monero-tutorial",
   "language": "python",
   "name": "python3"
  },
  "language_info": {
   "codemirror_mode": {
    "name": "ipython",
    "version": 3
   },
   "file_extension": ".py",
   "mimetype": "text/x-python",
   "name": "python",
   "nbconvert_exporter": "python",
   "pygments_lexer": "ipython3",
   "version": "3.11.3"
  },
  "orig_nbformat": 4
 },
 "nbformat": 4,
 "nbformat_minor": 2
}
