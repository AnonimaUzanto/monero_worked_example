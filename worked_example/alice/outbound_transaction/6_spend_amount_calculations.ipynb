{
 "cells": [
  {
   "attachments": {},
   "cell_type": "markdown",
   "metadata": {},
   "source": [
    "# VI. Create spend calculations\n",
    "\n",
    "Alice has 69300000 piconeros to spend. But to spend the piconeros she will have to pay a transaction fee, and will have to subtract this transaction fee from the total amount she can send. To obfuscate spends, Monero always requires at least two outputs. In this case the second output will be a 0 amount output sent to a random address.\n",
    "\n",
    "There are two primary goal for this section:\n",
    "1. generate transaction data Bob will use to identify Monero destined to him\n",
    "2. generate transaction data for the left over Monero Alice sends back to herself (it will be zero), this step will be explained\n",
    "\n",
    "This section relies heavliy on the following source:\n",
    "* [Zero to Monero: Second Edition; Chapter 5](https://www.getmonero.org/library/Zero-to-Monero-2-0-0.pdf)\n",
    "\n",
    "**It is highly recommended that the reader read chapter 4 and chapter 5 of _Zero to Monero: Second Edition_ prior to reading the following sections.**\n",
    "\n",
    "The sections below cover:\n",
    "1. determining the transaction fee\n",
    "2. encrypting amounts\n",
    "3. calculating blinding factors\n",
    "4. calculating commitments\n",
    "5. calculating the pseudo-commitment"
   ]
  },
  {
   "attachments": {},
   "cell_type": "markdown",
   "metadata": {},
   "source": [
    "### Summary (Introduction)\n",
    "**What we start with:**\n",
    "* Alice's public view key: `b981d77369cbf23725d61cceb6f6686b7e435ca52e2ccf518f560cc71fc54867`\n",
    "* Alice's public spend key: `cac88399eed832989df44ae91a0df5650040be8cfbe21b9570466432e6286d37`\n",
    "* Bob's public spend key: `c95c75de8c46a69ec8b190ce1fde47165a686385910fafc69d2472ffeaddcfc3`\n",
    "* Bob's public view key: `2d67eaa5f16c0c46e3052dccd0dc036f3d35bca0855f5af57e9997b63f6506bb`\n",
    "* transaction key (r): `42adc98ec7a15451f3a21750b2172e14d851191a7c07d247591bbd063b698a02`\n",
    "* Monero to be spent (piconero): `69300000`\n",
    "\n",
    "**What we end up with:**\n",
    "* transaction fee\n",
    "* decrypted spend amount (one for Bob, change is zero)\n",
    "* encrypted spend amount (one for Bob, one for change)\n",
    "* commitment blinding factors (one for Bob, one for change)\n",
    "* commitments (one for Bob, one for change)\n",
    "* pseudo-commitment\n",
    "* sum of blinding factors"
   ]
  },
  {
   "attachments": {},
   "cell_type": "markdown",
   "metadata": {},
   "source": [
    "## 1. Determining the transaction fee\n",
    "\n",
    "The transaction fee is normally calculated by a wallet. Here it is simply retreived from the actual transaction spend."
   ]
  },
  {
   "cell_type": "code",
   "execution_count": 1,
   "metadata": {},
   "outputs": [
    {
     "name": "stdout",
     "output_type": "stream",
     "text": [
      "Transaction fee: 30720000\n"
     ]
    }
   ],
   "source": [
    "# read data directly from the saved transaction\n",
    "import json\n",
    "\n",
    "with open(\"../../transactions/outbound/txn_9e29.json\", \"r\") as file:\n",
    "    txn = json.load(file)\n",
    "\n",
    "# extract transaction fee from transaction data\n",
    "transaction_fee = txn[\"rct_signatures\"][\"txnFee\"]\n",
    "\n",
    "\n",
    "print(f\"Transaction fee: {transaction_fee}\")"
   ]
  },
  {
   "attachments": {},
   "cell_type": "markdown",
   "metadata": {},
   "source": [
    "## 2. Encrypting amounts\n",
    "\n",
    "This section essentially reverses the steps Alice previously performed when she identified an amount addressed to her."
   ]
  },
  {
   "cell_type": "code",
   "execution_count": 2,
   "metadata": {},
   "outputs": [
    {
     "name": "stdout",
     "output_type": "stream",
     "text": [
      "Amount for Bob (Output 1): 38580000\n",
      "Encrypted amount for Bob (Output 1): d878feb0045449ee\n"
     ]
    }
   ],
   "source": [
    "'''\n",
    "Zero to Monero: Second Edition; Section 5.3 (not including the commitment part)\n",
    "'''\n",
    "\n",
    "\n",
    "'''\n",
    "To encrypt the payment amount this code performs the following:\n",
    "\n",
    "  1. Uses HrKv as a bit mask\n",
    "  2. Calculates the amount Alice will send after subtracting transaction fees\n",
    "  2. Applies the mask to the amount field\n",
    "'''\n",
    "\n",
    "import nacl.bindings\n",
    "import varint\n",
    "\n",
    "from Cryptodome.Hash import keccak\n",
    "from binascii import hexlify, unhexlify\n",
    "\n",
    "\n",
    "# define a function to return a hashed byte string\n",
    "def keccak_256(data):\n",
    "    return keccak.new(digest_bits=256).update(data).digest()\n",
    "\n",
    "# define a function to convert an integer into a valid ed25519 scalar\n",
    "def pad_and_reduce(scalar: bytes) -> bytes:\n",
    "    point_padded_to_64_bytes = scalar + (64 - len(scalar)) * b\"\\0\"\n",
    "    return nacl.bindings.crypto_core_ed25519_scalar_reduce(point_padded_to_64_bytes)\n",
    "\n",
    "# define a function to calculate exclusive or between bits in two variables\n",
    "def calculate_xor(var1, var2):\n",
    "    return bytearray(a ^ b for a, b in zip(*map(bytearray, (var1, var2))))\n",
    "\n",
    "\n",
    "### begin section: this is repeated from the view tag section for clarity\n",
    "r = \"42adc98ec7a15451f3a21750b2172e14d851191a7c07d247591bbd063b698a02\"\n",
    "public_view_key_bob = \"2d67eaa5f16c0c46e3052dccd0dc036f3d35bca0855f5af57e9997b63f6506bb\"\n",
    "scalar_point_mult = nacl.bindings.crypto_scalarmult_ed25519_noclamp\n",
    "cofactor = int(8).to_bytes(32, byteorder=\"little\")\n",
    "rKv = scalar_point_mult(unhexlify(r), unhexlify(public_view_key_bob))\n",
    "rKv = scalar_point_mult(cofactor, rKv)\n",
    "rKv_concat_extra_index = rKv + varint.encode(1)\n",
    "HrKv = keccak_256(rKv_concat_extra_index)\n",
    "### end section\n",
    "\n",
    "\n",
    "# ensure the hash is a valid scalar\n",
    "amount_mask = pad_and_reduce(HrKv)\n",
    "\n",
    "# calculate Keccak hash of concatenated \"amount\" and scalar\n",
    "amount_mask = keccak_256(b\"amount\" + amount_mask)\n",
    "\n",
    "# alice owns this amount of Monero\n",
    "alice_owned_amount = 69300000\n",
    "\n",
    "# alice will send this amount to Bob\n",
    "amount_1 = alice_owned_amount - transaction_fee\n",
    "\n",
    "# convert amount to 8 bytes\n",
    "amount_1 = int(amount_1).to_bytes(8, byteorder=\"little\")\n",
    "\n",
    "# truncate obfuscation mask to length of amount field\n",
    "truncated_amount_mask = amount_mask[: len(amount_1)]\n",
    "\n",
    "# apply binary xor operation to encrypted amount\n",
    "encrypted_amount_1 = calculate_xor(amount_1, truncated_amount_mask)\n",
    "\n",
    "\n",
    "print(f\"Amount for Bob (Output 1): {int.from_bytes(amount_1, byteorder='little')}\")\n",
    "print(f\"Encrypted amount for Bob (Output 1): {hexlify(encrypted_amount_1).decode()}\")"
   ]
  },
  {
   "cell_type": "code",
   "execution_count": 3,
   "metadata": {},
   "outputs": [
    {
     "name": "stdout",
     "output_type": "stream",
     "text": [
      "Amount for zero change (Output 0): 0\n",
      "Encrypted amount for zero change (Output 0): d9311c21fa3168e1\n"
     ]
    }
   ],
   "source": [
    "'''\n",
    "Zero to Monero: Second Edition; Section 5.3 (not including the commitment part)\n",
    "'''\n",
    "\n",
    "\n",
    "'''\n",
    "To encrypt the payment amount this code performs the following:\n",
    "\n",
    "  1. Uses HrKv as a bit mask\n",
    "  2. Calculates the amount Alice will send after subtracting transaction fees\n",
    "  2. Applies the mask to the amount field\n",
    "'''\n",
    "\n",
    "### begin section: this is repeated from the view tag section for clarity\n",
    "public_view_key_alice = \"b981d77369cbf23725d61cceb6f6686b7e435ca52e2ccf518f560cc71fc54867\"\n",
    "scalar_point_mult = nacl.bindings.crypto_scalarmult_ed25519_noclamp\n",
    "cofactor = int(8).to_bytes(32, byteorder=\"little\")\n",
    "rKv = scalar_point_mult(unhexlify(r), unhexlify(public_view_key_alice))\n",
    "rKv = scalar_point_mult(cofactor, rKv)\n",
    "rKv_concat_extra_index = rKv + varint.encode(0)\n",
    "HrKv = keccak_256(rKv_concat_extra_index)\n",
    "### end section\n",
    "\n",
    "\n",
    "# ensure the hash is a valid scalar\n",
    "amount_mask = pad_and_reduce(HrKv)\n",
    "\n",
    "# calculate Keccak hash of concatenated \"amount\" and scalar\n",
    "amount_mask = keccak_256(b\"amount\" + amount_mask)\n",
    "\n",
    "# zero amount\n",
    "amount_0 = int(0).to_bytes(8, byteorder=\"little\")\n",
    "\n",
    "# truncate obfuscation mask to length of amount field\n",
    "truncated_amount_mask = amount_mask[: len(amount_0)]\n",
    "\n",
    "# apply binary xor operation to encrypted amount\n",
    "encrypted_amount_0 = calculate_xor(amount_0, truncated_amount_mask)\n",
    "\n",
    "\n",
    "print(f\"Amount for zero change (Output 0): {0}\")\n",
    "print(f\"Encrypted amount for zero change (Output 0): {hexlify(encrypted_amount_0).decode()}\")"
   ]
  },
  {
   "attachments": {},
   "cell_type": "markdown",
   "metadata": {},
   "source": [
    "## 3. Calculating blinding factors\n",
    "\n",
    "Alice will used the blinding factors (y) she creates here to later create a pseudo-commitment."
   ]
  },
  {
   "cell_type": "code",
   "execution_count": 4,
   "metadata": {},
   "outputs": [
    {
     "name": "stdout",
     "output_type": "stream",
     "text": [
      "Blinding factor for Bob (Output 1) (y): 7ec60a17a63b0fe2e3f4b68d86739f9c562b21ae58f7575b7219f8ff061d130b\n"
     ]
    }
   ],
   "source": [
    "'''\n",
    "Zero to Monero: Second Edition; Section 5.3\n",
    "'''\n",
    "\n",
    "\n",
    "'''\n",
    "To decode the commitment field this code performs the following:\n",
    "\n",
    "  1. Concatenates the byte string \"commitment_mask\" and the value HrKv\n",
    "  2. Ensures this is a valid curve scalar and stores it as \"y\" - the blinding factor\n",
    "'''\n",
    "\n",
    "import nacl.bindings\n",
    "\n",
    "from binascii import hexlify, unhexlify\n",
    "\n",
    "\n",
    "def pad_and_reduce(point):\n",
    "    point_padded_to_64_bytes = point + (64 - len(point)) * b\"\\0\"\n",
    "    return nacl.bindings.crypto_core_ed25519_scalar_reduce(point_padded_to_64_bytes)\n",
    "\n",
    "\n",
    "### begin section: this is repeated from 2_ownership_calculation for clarity\n",
    "scalar_point_mult = nacl.bindings.crypto_scalarmult_ed25519_noclamp\n",
    "cofactor = int(8).to_bytes(32, byteorder=\"little\")\n",
    "rKv = scalar_point_mult(unhexlify(r), unhexlify(public_view_key_bob))\n",
    "rKv = scalar_point_mult(cofactor, rKv)\n",
    "rKv_concat_extra_index = rKv + varint.encode(1)\n",
    "HrKv = keccak_256(rKv_concat_extra_index)\n",
    "HrKv = pad_and_reduce(HrKv)\n",
    "### end section\n",
    "\n",
    "\n",
    "#  y = hash(\"commitment_mask\" + hash(rKv + index))\n",
    "y_1 = keccak_256(b\"commitment_mask\" + HrKv)\n",
    "\n",
    "# ensure y is a valid ed25519 scalar\n",
    "y_1 = pad_and_reduce(y_1)\n",
    "\n",
    "\n",
    "print(f\"Blinding factor for Bob (Output 1) (y): {hexlify(y_1).decode()}\")"
   ]
  },
  {
   "cell_type": "code",
   "execution_count": 5,
   "metadata": {},
   "outputs": [
    {
     "name": "stdout",
     "output_type": "stream",
     "text": [
      "Blinding factor for zero change (Output 0) (y): ac676979b5bba2bf8f8692f3424b9c37c18cb1ffae4422cd6d871b4ecd51970d\n"
     ]
    }
   ],
   "source": [
    "'''\n",
    "Zero to Monero: Second Edition; Section 5.3\n",
    "'''\n",
    "\n",
    "\n",
    "'''\n",
    "To decode the commitment field this code performs the following:\n",
    "\n",
    "  1. Concatenates the byte string \"commitment_mask\" and the value HrKv\n",
    "  2. Ensures this is a valid curve scalar and stores it as \"y\" - the blinding factor\n",
    "'''\n",
    "\n",
    "import nacl.bindings\n",
    "\n",
    "from binascii import hexlify, unhexlify\n",
    "\n",
    "\n",
    "def pad_and_reduce(point):\n",
    "    point_padded_to_64_bytes = point + (64 - len(point)) * b\"\\0\"\n",
    "    return nacl.bindings.crypto_core_ed25519_scalar_reduce(point_padded_to_64_bytes)\n",
    "\n",
    "\n",
    "### begin section: this is repeated from 2_ownership_calculation for clarity\n",
    "scalar_point_mult = nacl.bindings.crypto_scalarmult_ed25519_noclamp\n",
    "cofactor = int(8).to_bytes(32, byteorder=\"little\")\n",
    "rKv = scalar_point_mult(unhexlify(r), unhexlify(public_view_key_alice))\n",
    "rKv = scalar_point_mult(cofactor, rKv)\n",
    "rKv_concat_extra_index = rKv + varint.encode(0)\n",
    "HrKv = keccak_256(rKv_concat_extra_index)\n",
    "HrKv = pad_and_reduce(HrKv)\n",
    "### end section\n",
    "\n",
    "\n",
    "#  y = hash(\"commitment_mask\" + hash(rKv + index))\n",
    "y_0 = keccak_256(b\"commitment_mask\" + HrKv)\n",
    "\n",
    "# ensure y is a valid ed25519 scalar\n",
    "y_0 = pad_and_reduce(y_0)\n",
    "\n",
    "\n",
    "print(f\"Blinding factor for zero change (Output 0) (y): {hexlify(y_0).decode()}\")"
   ]
  },
  {
   "attachments": {},
   "cell_type": "markdown",
   "metadata": {},
   "source": [
    "## 4. Calculating commitments\n",
    "\n",
    "Commitments are a way Alice can communicate hidden amounts in a transaction while still allowing addition and subtraction to be used. The `amount` field is an encrypted amount but addition and subtraction are not meaningful for that field. A commitment can be added and subtracted from other commitments which means the amounts contained within can be added and subtracted while obfuscating the amount."
   ]
  },
  {
   "cell_type": "code",
   "execution_count": 6,
   "metadata": {},
   "outputs": [
    {
     "name": "stdout",
     "output_type": "stream",
     "text": [
      "Curve point yG: cbdc2a5eaac2d0228950b6955264b48b195ad0656cc2be5170446ae0dd78f2df\n",
      "Curve point bH: bdcb504f17e9fa6ff08d7f9415c6c1090b52c1aba8a28f65ada20122c14eef03\n",
      "Commitment (recalculated) (Output 0): 3921477a4506f7eddde7ff228f05d8026525276dce1880b3d57e540836ccc8d1\n"
     ]
    }
   ],
   "source": [
    "'''\n",
    "Zero to Monero: Second Edition; Section 5.3\n",
    "'''\n",
    "\n",
    "\n",
    "'''\n",
    "To recreate the commitment field this code performs the following:\n",
    "\n",
    "  1. Calculate yG by multiplying the blinding factor (y) by the generator point G\n",
    "  2. Create the curve point H from the generator point G\n",
    "  3. Encode the amount (b) as bytes\n",
    "  4. Calculate bH by multiplying the amount (b) by the point H\n",
    "  5. Add yG and bH \n",
    "'''\n",
    "\n",
    "# define a function to multiply a scalar by the base point G\n",
    "scalar_mult_G = nacl.bindings.crypto_scalarmult_ed25519_base_noclamp\n",
    "\n",
    "# define a function to add to curve points\n",
    "point_add = nacl.bindings.crypto_core_ed25519_add\n",
    "\n",
    "# define a function that allows multiplying a curve point by a scalar (eg: integer)\n",
    "scalar_point_mult = nacl.bindings.crypto_scalarmult_ed25519_noclamp\n",
    "\n",
    "# Monero multiplies curve points by 8, create 8 in bytes for use in calculations\n",
    "cofactor = int(8).to_bytes(32, byteorder=\"little\")\n",
    "\n",
    "\n",
    "# calculate yG\n",
    "yG = scalar_mult_G(y_1)\n",
    "\n",
    "\n",
    "### begin section: recreate the curve point H\n",
    "# obtain the curve point G (uses G*1 = G)\n",
    "G = scalar_mult_G(int(1).to_bytes(32, byteorder=\"little\"))\n",
    "\n",
    "# hash G to a number and directly interpret this as the y-coordinate for a curve point\n",
    "H = keccak_256(G)\n",
    "\n",
    "# multiply H by the cofactor 8 to ensure it is in the prime order subgroup\n",
    "H = scalar_point_mult(cofactor, H)\n",
    "### end section: recreate the curve point H\n",
    "\n",
    "\n",
    "# recode payment amount as 32 bytes\n",
    "b = int(38580000).to_bytes(32, byteorder=\"little\")\n",
    "\n",
    "# calculate bH\n",
    "bH = scalar_point_mult(b, H)\n",
    "\n",
    "# calculate commitment: yG + bH\n",
    "committment_0 = point_add(yG, bH)\n",
    "\n",
    "\n",
    "print(f\"Curve point yG: {hexlify(yG).decode()}\")\n",
    "print(f\"Curve point bH: {hexlify(bH).decode()}\")\n",
    "print(f\"Commitment (recalculated) (Output 0): {hexlify(committment_0).decode()}\")"
   ]
  },
  {
   "cell_type": "code",
   "execution_count": 7,
   "metadata": {},
   "outputs": [
    {
     "name": "stdout",
     "output_type": "stream",
     "text": [
      "Curve point yG: 8d34848196e903ba8f9ff13d57402ee4e845aba06dbd2aee382f20c9ac866157\n",
      "Curve point bH: null because amount is 0\n",
      "Commitment (recalculated) (Output 0): 8d34848196e903ba8f9ff13d57402ee4e845aba06dbd2aee382f20c9ac866157\n"
     ]
    }
   ],
   "source": [
    "'''\n",
    "Zero to Monero: Second Edition; Section 5.3\n",
    "'''\n",
    "\n",
    "\n",
    "'''\n",
    "To recreate the commitment field this code performs the following:\n",
    "\n",
    "  1. Calculate yG by multiplying the blinding factor (y) by the generator point G\n",
    "  2. Create the curve point H from the generator point G\n",
    "  3. Encode the amount (b) as bytes\n",
    "  4. Calculate bH by multiplying the amount (b) by the point H\n",
    "  5. Add yG and bH \n",
    "'''\n",
    "\n",
    "# define a function to multiply a scalar by the base point G\n",
    "scalar_mult_G = nacl.bindings.crypto_scalarmult_ed25519_base_noclamp\n",
    "\n",
    "# define a function to add to curve points\n",
    "point_add = nacl.bindings.crypto_core_ed25519_add\n",
    "\n",
    "# define a function that allows multiplying a curve point by a scalar (eg: integer)\n",
    "scalar_point_mult = nacl.bindings.crypto_scalarmult_ed25519_noclamp\n",
    "\n",
    "# Monero multiplies curve points by 8, create 8 in bytes for use in calculations\n",
    "cofactor = int(8).to_bytes(32, byteorder=\"little\")\n",
    "\n",
    "\n",
    "# calculate yG\n",
    "yG = scalar_mult_G(y_0)\n",
    "\n",
    "# calculate commitment: yG + 0H = yG\n",
    "committment_0 = yG\n",
    "\n",
    "\n",
    "print(f\"Curve point yG: {hexlify(yG).decode()}\")\n",
    "print(f\"Curve point bH: null because amount is 0\")\n",
    "print(f\"Commitment (recalculated) (Output 0): {hexlify(committment_0).decode()}\")"
   ]
  },
  {
   "attachments": {},
   "cell_type": "markdown",
   "metadata": {},
   "source": [
    "## 5. Calculating pseudo-commitment\n",
    "\n",
    "When Alice creates a transaction she will require a way to reference her previously received Monero. Rather than directly referencing the prior commitment, she will make a new commitment to the same amount but with a different blinding factor. This new commitment is called a pseudo-commitment and is stored in the new transaction.\n",
    "\n",
    "**Note: There is one commitment per spent output in a transaction. In this transaction Alice is spending only one input so there is only one corresponding pseudo-commitment. In this simple case the blinding factor used in the one pseudo-commitment is equal to the sum of blinding factors used in new commitments. When there are more than one pseudo-commitment all of them, except the last one, use random blinding factors, and then the blinding factors for the last pseudo-commitment are set equal to the sum of new output blinding factors less the sum of randomly created blinding factors.** "
   ]
  },
  {
   "cell_type": "code",
   "execution_count": 8,
   "metadata": {},
   "outputs": [
    {
     "name": "stdout",
     "output_type": "stream",
     "text": [
      "Pseudo-commitment blinding factor (y): 3d5a7e3341949f499dde51deeac45cbf17b8d2ad073c7a28e0a0134ed46eaa08\n",
      "Pseudo-commitment amount (b): 206f210400000000000000000000000000000000000000000000000000000000\n",
      "Pseudo-commitment (yG + bH): 57340efcce4b3b7fb210de30439fb2fca501284c73411ce657db8f7f03d232e3\n"
     ]
    }
   ],
   "source": [
    "'''\n",
    "Zero to Monero: Second Edition; Section 5.4\n",
    "'''\n",
    "\n",
    "\n",
    "'''\n",
    "To create a pseudo-commitment this code performs the following:\n",
    "\n",
    "  1. Sum the blinding factors previously calculated (y)\n",
    "  2. Calculate yG by multiplying the blinding factor sum (y) by the generator point G\n",
    "  3. Create the curve point H from the generator point G\n",
    "  4. Sum the amounts and transaction fees \n",
    "  5. Encode the amount (b) as bytes\n",
    "  6. Calculate bH by multiplying the amount (b) by the point H\n",
    "  7. Add yG and bH \n",
    "'''\n",
    "\n",
    "scalar_point_mult = nacl.bindings.crypto_scalarmult_ed25519_noclamp\n",
    "point_add = nacl.bindings.crypto_core_ed25519_add\n",
    "scalar_add = nacl.bindings.crypto_core_ed25519_scalar_add\n",
    "\n",
    "cofactor = int(8).to_bytes(32, byteorder=\"little\")\n",
    "G = scalar_mult_G(int(1).to_bytes(32, byteorder=\"little\"))\n",
    "H = keccak_256(G)\n",
    "H = scalar_point_mult(cofactor, H)\n",
    "\n",
    "y = scalar_add(y_0, y_1)\n",
    "\n",
    "b = int.from_bytes(amount_0, byteorder=\"little\") + int.from_bytes(amount_1, byteorder=\"little\") + transaction_fee\n",
    "b = int(b).to_bytes(32, byteorder=\"little\")\n",
    "\n",
    "yG = scalar_mult_G(y)\n",
    "bH = scalar_point_mult(b, H)\n",
    "\n",
    "pseudo_commitment = point_add(yG, bH)\n",
    "\n",
    "print(f\"Pseudo-commitment blinding factor (y): {hexlify(y).decode()}\")\n",
    "print(f\"Pseudo-commitment amount (b): {hexlify(b).decode()}\")\n",
    "print(f\"Pseudo-commitment (yG + bH): {hexlify(pseudo_commitment).decode()}\")\n"
   ]
  },
  {
   "attachments": {},
   "cell_type": "markdown",
   "metadata": {},
   "source": [
    "### Summary\n",
    "**What we start with:**\n",
    "* Bob's Monero address: `49FgswTBtGdTZQPj7e16qc4jrWY5VuGE2aDoaMDEALknZeTy5vcjkcsCrh4deo231LKcACcjgALFji4c4SYQF5WdNCLvkN3`\n",
    "* Alice's public view key: `b981d77369cbf23725d61cceb6f6686b7e435ca52e2ccf518f560cc71fc54867`\n",
    "* Alice's public spend key: `cac88399eed832989df44ae91a0df5650040be8cfbe21b9570466432e6286d37`\n",
    "* Monero to be spend (piconero): `69300000`\n",
    "\n",
    "**What we end up with:**\n",
    "* transaction fee: `30720000`\n",
    "* decrypted spend amount (for Bob): `38580000`\n",
    "* encrypted spend amount (for Bob): `d878feb0045449ee`\n",
    "* encrypted zero change amount: `d9311c21fa3168e1`\n",
    "* blinding factor 1 (for Bob): `7ec60a17a63b0fe2e3f4b68d86739f9c562b21ae58f7575b7219f8ff061d130b`\n",
    "* blinding factor 0 (for zero change): `ac676979b5bba2bf8f8692f3424b9c37c18cb1ffae4422cd6d871b4ecd51970d`\n",
    "* commitment 1 (for Bob): `3921477a4506f7eddde7ff228f05d8026525276dce1880b3d57e540836ccc8d1`\n",
    "* commitment 0 (for zero change): `8d34848196e903ba8f9ff13d57402ee4e845aba06dbd2aee382f20c9ac866157`\n",
    "* sum of blinding factors: `3d5a7e3341949f499dde51deeac45cbf17b8d2ad073c7a28e0a0134ed46eaa08`\n",
    "* pseudo-commitment: `57340efcce4b3b7fb210de30439fb2fca501284c73411ce657db8f7f03d232e3`"
   ]
  }
 ],
 "metadata": {
  "kernelspec": {
   "display_name": "monero-tutorial",
   "language": "python",
   "name": "python3"
  },
  "language_info": {
   "codemirror_mode": {
    "name": "ipython",
    "version": 3
   },
   "file_extension": ".py",
   "mimetype": "text/x-python",
   "name": "python",
   "nbconvert_exporter": "python",
   "pygments_lexer": "ipython3",
   "version": "3.11.3"
  },
  "orig_nbformat": 4
 },
 "nbformat": 4,
 "nbformat_minor": 2
}
