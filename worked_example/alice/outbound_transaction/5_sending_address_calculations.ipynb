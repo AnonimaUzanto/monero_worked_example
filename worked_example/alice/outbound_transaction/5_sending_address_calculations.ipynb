{
 "cells": [
  {
   "attachments": {},
   "cell_type": "markdown",
   "metadata": {},
   "source": [
    "# V. Create sending address\n",
    "\n",
    "In the previous sections Alice identified a transaction destined for her, and extracted all information she could from the transaction. She is currently the owner of 69300000 piconeros that was received in one prior output. Alice now wants to spend all of that Monero by sending it to Bob. She **only** knows Bob's Monero address.\n",
    "\n",
    "Using only Bob's Monero address, Alice will create transaction data Bob will use to identify the Monero she sends to him. This section essentialy creates the opposite side of some of Alice's prior calculations. This section will cover all of the calculations Alice uses to create address data for Bob. The section after this one will cover Alice preparing amounts to sendd.\n",
    "\n",
    "Alice eventually uses the data calculated in this section and following sections to spend her Monero in transaction txn_9e29.json. The data calculated in this section will be compared to data in that transaction to clarify that the calculations here are in fact exactly what is contained within that transaction.\n",
    "\n",
    "There are two primary goal for this section:\n",
    "1. generate transaction data Bob will use to identify Monero destined to him\n",
    "2. generate transaction data for the left over Monero Alice sends back to herself (it will be zero), this step will be explained\n",
    "\n",
    "This section relies heavliy on the following source:\n",
    "* [Zero to Monero: Second Edition; Chapter 4](https://www.getmonero.org/library/Zero-to-Monero-2-0-0.pdf)\n",
    "\n",
    "**It is highly recommended that the reader read chapter 4 of _Zero to Monero: Second Edition_ prior to reading the following sections.**\n",
    "\n",
    "The sections below cover:\n",
    "1. converting Bob's address to public spend/view keys\n",
    "2. calculating transaction key (r), and transaction public key (rG)\n",
    "3. calculating stealth addresses, and view tag\n",
    "4. encrypting payment id\n",
    "5. creating transaction extra field"
   ]
  },
  {
   "attachments": {},
   "cell_type": "markdown",
   "metadata": {},
   "source": [
    "### Summary (Introduction)\n",
    "**What we start with:**\n",
    "* Bob's Monero address: `49FgswTBtGdTZQPj7e16qc4jrWY5VuGE2aDoaMDEALknZeTy5vcjkcsCrh4deo231LKcACcjgALFji4c4SYQF5WdNCLvkN3`\n",
    "* Alice's public view key: `b981d77369cbf23725d61cceb6f6686b7e435ca52e2ccf518f560cc71fc54867`\n",
    "* Alice's public spend key: `cac88399eed832989df44ae91a0df5650040be8cfbe21b9570466432e6286d37`\n",
    "\n",
    "**What we end up with:**\n",
    "* Bob's public view key\n",
    "* Bob's public spend key\n",
    "* transaction key (r)\n",
    "* transaction public key (rG)\n",
    "* stealth address (one for Bob, one for change) \n",
    "* view tag (one for Bob, one for change)\n",
    "* encrypted payment id\n",
    "* transaction extra field"
   ]
  },
  {
   "attachments": {},
   "cell_type": "markdown",
   "metadata": {},
   "source": [
    "## 1. Converting Bob's address to public spend/view keys\n",
    "\n",
    "This was essentially already covered back in step 7 of 1_address_calculation.ipynb! Alice will extract the public spend / view keys from Bob's Monero address."
   ]
  },
  {
   "cell_type": "code",
   "execution_count": 1,
   "metadata": {},
   "outputs": [
    {
     "name": "stdout",
     "output_type": "stream",
     "text": [
      "Inside function - base58 block to integer: 1353714824316208806 bytes in number: 8 number as hex: 12c95c75de8c46a6\n",
      "Inside function - base58 block to integer: 11441590088826347079 bytes in number: 8 number as hex: 9ec8b190ce1fde47\n",
      "Inside function - base58 block to integer: 1610714593390301103 bytes in number: 8 number as hex: 165a686385910faf\n",
      "Inside function - base58 block to integer: 14311635267191758287 bytes in number: 8 number as hex: c69d2472ffeaddcf\n",
      "Inside function - base58 block to integer: 14064011468851997708 bytes in number: 8 number as hex: c32d67eaa5f16c0c\n",
      "Inside function - base58 block to integer: 5107932096636181507 bytes in number: 8 number as hex: 46e3052dccd0dc03\n",
      "Inside function - base58 block to integer: 8015621996052569946 bytes in number: 8 number as hex: 6f3d35bca0855f5a\n",
      "Inside function - base58 block to integer: 17689745263234606342 bytes in number: 8 number as hex: f57e9997b63f6506\n",
      "Inside function - base58 block to integer: 806887968104 bytes in number: 5 number as hex: bbde454d68\n",
      "Bob's public spend key (recovered from address) is: c95c75de8c46a69ec8b190ce1fde47165a686385910fafc69d2472ffeaddcfc3\n",
      "Bob's public view key (recovered from address) is: 2d67eaa5f16c0c46e3052dccd0dc036f3d35bca0855f5af57e9997b63f6506bb\n"
     ]
    }
   ],
   "source": [
    "'''\n",
    "Zero to Monero: Second Edition; Section 4.1\n",
    "'''\n",
    "\n",
    "\n",
    "'''\n",
    "To calculate the public view key this code performs the following:\n",
    "\n",
    "  1. Defines the base58 \"alphabet\"\n",
    "  2. Iterates over the Monero address\n",
    "  3. Converts 11 base58 characters at a time to an integer\n",
    "  4. Converts the integer to big-endian byte array\n",
    "  5. Converts the byte array to hex\n",
    "  6. Concatenates all of the create hex strings\n",
    "  7. Extracts the net byte + public spend key + public view key + checksum\n",
    "'''\n",
    "\n",
    "import math\n",
    "\n",
    "\n",
    "# define a function to convert base58 encoding to hex encoding\n",
    "def base58_to_hex(encoded_str):\n",
    "    # Define the base58 alphabet and initialize some variables\n",
    "    alphabet = '123456789ABCDEFGHJKLMNPQRSTUVWXYZabcdefghijkmnopqrstuvwxyz'\n",
    "    base58_alphabet_size = len(alphabet)\n",
    "    num = 0\n",
    "    count = 0\n",
    "    result = ''\n",
    "\n",
    "    # Iterate over each character in the encoded string\n",
    "    for i, char in enumerate(encoded_str):\n",
    "        # Find the index of the current character in the alphabet\n",
    "        base58_index = alphabet.index(char)\n",
    " \n",
    "        # Multiply the current result by the base and add the current index\n",
    "        num = num * base58_alphabet_size + base58_index\n",
    "        count += 1\n",
    "\n",
    "        # If we've processed 11 characters or reached the end of the string,\n",
    "        # convert the result to a big-endian byte array and then to hex\n",
    "        if count == 11 or i == len(encoded_str) - 1:\n",
    "            \n",
    "            # Convert the byte array to a hex string and add it to the result\n",
    "            bits_in_number = num.bit_length()\n",
    "            bytes_in_number = math.ceil(bits_in_number / 8.0)\n",
    "            number_as_hex = num.to_bytes(bytes_in_number, byteorder=\"big\").hex()\n",
    "            print(f\"Inside function - base58 block to integer: {num} bytes in number: {bytes_in_number} number as hex: {number_as_hex}\")\n",
    "            result += number_as_hex\n",
    "            \n",
    "            # Reset the variables for the next block\n",
    "            num = 0\n",
    "            count = 0\n",
    "\n",
    "    return result\n",
    "\n",
    "\n",
    "# convert Bob's Monero address to hex\n",
    "bob_address_hex = base58_to_hex(\"49FgswTBtGdTZQPj7e16qc4jrWY5VuGE2aDoaMDEALknZeTy5vcjkcsCrh4deo231LKcACcjgALFji4c4SYQF5WdNCLvkN3\")\n",
    "\n",
    "# extract the first two characters for the net byte\n",
    "netbyte_recovered = bob_address_hex[:2]\n",
    "\n",
    "# extract 64 characters (32 bytes) for the public spend key\n",
    "public_spend_key_bob = bob_address_hex[2:66]\n",
    "\n",
    "# extract 64 characters (32 bytes) for the public view key \n",
    "public_view_key_bob = bob_address_hex[66:130]\n",
    "\n",
    "# extract the checksum\n",
    "checksum_recovered = bob_address_hex[130:]\n",
    "\n",
    "print(f\"Bob's public spend key (recovered from address) is: {public_spend_key_bob}\")\n",
    "print(f\"Bob's public view key (recovered from address) is: {public_view_key_bob}\")"
   ]
  },
  {
   "attachments": {},
   "cell_type": "markdown",
   "metadata": {},
   "source": [
    "## 2. Calculating transaction key (r), and transaction public key (rG)\n",
    "\n",
    "The transaction key (r) is a random number generated by the wallet software when sending a transaction. The value `r` is **not** stored in the blockchain. The value is only stored by the wallet, and is viewable as the \"transaction key\" within wallet software. The transaction public key that is used in creating stealth addresses is simply `r` multiplied by the generator point `G`."
   ]
  },
  {
   "cell_type": "code",
   "execution_count": 2,
   "metadata": {},
   "outputs": [
    {
     "name": "stdout",
     "output_type": "stream",
     "text": [
      "Transaction key (r): 42adc98ec7a15451f3a21750b2172e14d851191a7c07d247591bbd063b698a02\n",
      "Transaction pubic key (rG): 0286418eb6ae7e07927819e3ab0bfb9aede712ca02352522e9d0f081df3d873d\n"
     ]
    }
   ],
   "source": [
    "'''\n",
    "Zero to Monero: Second Edition; Section 4.2\n",
    "'''\n",
    "\n",
    "\n",
    "'''\n",
    "To calculate transaction public key this code performs the following:\n",
    "\n",
    "  1. Defines the transaction key (r) previously generated by a Monero wallet\n",
    "  2. Multiplies the transaction key by the generator point (G)\n",
    "'''\n",
    "\n",
    "import nacl.bindings\n",
    "\n",
    "from binascii import hexlify, unhexlify\n",
    "\n",
    "\n",
    "# define a function to multiply a scalar by the base point G\n",
    "scalar_mult_G = nacl.bindings.crypto_scalarmult_ed25519_base_noclamp\n",
    "\n",
    "\n",
    "# generate a random number to use as the transaction key (previously generated by a Monero wallet)\n",
    "r = \"42adc98ec7a15451f3a21750b2172e14d851191a7c07d247591bbd063b698a02\"\n",
    "\n",
    "# multiply \"r\" by G to create the transaction public key\n",
    "rG = scalar_mult_G(unhexlify(r))\n",
    "\n",
    "\n",
    "print(f\"Transaction key (r): {r}\")\n",
    "print(f\"Transaction pubic key (rG): {hexlify(rG).decode()}\")"
   ]
  },
  {
   "attachments": {},
   "cell_type": "markdown",
   "metadata": {},
   "source": [
    "## 3. Calculating stealth addresses, and view tag\n",
    "\n",
    "Alice previously performed most of the following calculations when determining if she was the intended recipient of a transaction. She will generate two addresses: one address for Bob, and one address for return change. In this instance Alice is sending all of her Monero to Bob so her change should be zero, which it is. The second address is used to send return change of 0 Monero, but instead of sending a zero Monero output to Alice, a zero Monero output is send to a random address. The order in which the two outputs are represented in the transaction is randomly decided to further obfuscate transactions. In this case the zero change sent to a random address is output 0 and the spend to Bob is output 1. \n",
    "\n",
    "To further clarify the concept of \"change\" image if Alice had 3 Monero to spend and wanted to send 2 Monero, she would receive 1 Monero back as change. In this case Alice is spending all of her Monero and would not receive change. But Monero transactions always have at least two outputs to help ensure that the number of transaction outputs doesn't identify types of spending habits."
   ]
  },
  {
   "attachments": {},
   "cell_type": "markdown",
   "metadata": {},
   "source": [
    "The first two sections below create the stealth address and view tag for the output destined to Bob. The second two sections create the stealth address and view tag for the zero amount change output destined to a random address."
   ]
  },
  {
   "cell_type": "code",
   "execution_count": 3,
   "metadata": {},
   "outputs": [
    {
     "name": "stdout",
     "output_type": "stream",
     "text": [
      "Stealth address for Bob (Output 1): 07ab8e6d3981d84b50f0d02ec45c2232ba239159db2f15adf44947535be13967\n"
     ]
    }
   ],
   "source": [
    "'''\n",
    "Zero to Monero: Second Edition; Section 4.2\n",
    "'''\n",
    "\n",
    "\n",
    "'''\n",
    "To calculate a stealth address this code performs the following:\n",
    "\n",
    "  1. Multiplies Bob's public view key by the transaction public key\n",
    "  2. Concatenates the value created in step 1 and an index identifying \n",
    "     the output number (uses zero indexing)\n",
    "  3. Hashes this value with Keccack\n",
    "  4. Multiplies this by G to create a new curve point\n",
    "  5. Adds Bob's public spend key to the curve point from step 4\n",
    "'''\n",
    "\n",
    "import varint\n",
    "import nacl.bindings\n",
    "\n",
    "from Cryptodome.Hash import keccak\n",
    "\n",
    "\n",
    "# define a function to return a hashed byte string\n",
    "def keccak_256(data):\n",
    "    return keccak.new(digest_bits=256).update(data).digest()\n",
    "\n",
    "# define a function to convert an integer into a valid ed25519 scalar\n",
    "def pad_and_reduce(scalar: bytes) -> bytes:\n",
    "    point_padded_to_64_bytes = scalar + (64 - len(scalar)) * b\"\\0\"\n",
    "    return nacl.bindings.crypto_core_ed25519_scalar_reduce(point_padded_to_64_bytes)\n",
    "\n",
    "\n",
    "# define a function to multiply the ed25519 generator point G by a scalar (eg: integer)\n",
    "scalar_mult_G = nacl.bindings.crypto_scalarmult_ed25519_base_noclamp\n",
    "\n",
    "# define a function to multiply a curve point by a scalar\n",
    "scalar_point_mult = nacl.bindings.crypto_scalarmult_ed25519_noclamp\n",
    "\n",
    "# define a function to add to curve points\n",
    "point_add = nacl.bindings.crypto_core_ed25519_add\n",
    "\n",
    "# Monero multiplies curve points by 8, create 8 in bytes for use in calculations\n",
    "cofactor = int(8).to_bytes(32, byteorder=\"little\")\n",
    "\n",
    "\n",
    "# multiply Bob's public view key by the transaction key to obtain rKv: rKv = r * G\n",
    "rKv = scalar_point_mult(unhexlify(r), unhexlify(public_view_key_bob))\n",
    "\n",
    "# multiply by 8, required by Monero\n",
    "rKv = scalar_point_mult(cofactor, rKv)\n",
    "\n",
    "# concatenate rKv and an integer index to indicate this output is the second output (zero indexing)\n",
    "rKv_concat_extra_index = rKv + varint.encode(1)\n",
    "\n",
    "# hash the previously concatenated value to create H(rKv)\n",
    "HrKv = keccak_256(rKv_concat_extra_index)\n",
    "\n",
    "# multiply the scalar by the ed25519 generator point to obtain a new curve point\n",
    "HrKvG = scalar_mult_G(HrKv)\n",
    "\n",
    "# add Bob's public spend key to the above value:  stealth address = H(rKv)G + public_spend_key\n",
    "stealth_address_bob = point_add(HrKvG, unhexlify(public_spend_key_bob))\n",
    "\n",
    "\n",
    "print(f\"Stealth address for Bob (Output 1): {hexlify(stealth_address_bob).decode()}\")"
   ]
  },
  {
   "cell_type": "code",
   "execution_count": 4,
   "metadata": {},
   "outputs": [
    {
     "name": "stdout",
     "output_type": "stream",
     "text": [
      "View tag for Bob (Output 1): c6\n"
     ]
    }
   ],
   "source": [
    "'''\n",
    "Not present in  Zero to Monero: Second Edition\n",
    "'''\n",
    "\n",
    "\n",
    "'''\n",
    "To calculate the view tag this code performs the following:\n",
    "\n",
    "  1. Concatenates the string \"view_tag\" with the value rKv created for\n",
    "     the stealth address in the prior section and an index identifying the \n",
    "     output number (uses zero indexing)\n",
    "  2. Hashes this value with Keccack\n",
    "  3. Extracts the first byte from this hash\n",
    "'''\n",
    "\n",
    "# concatenate the string \"view_tag\", rKv, and a transaction index integer\n",
    "rKv_concat_extra_index = b\"view_tag\" + rKv + varint.encode(1)\n",
    "\n",
    "# hash the previously concatenated value to create H(rKv)\n",
    "HrKv = keccak_256(rKv_concat_extra_index)\n",
    "\n",
    "# the view tag is the first byte of this hashed string\n",
    "view_tag_bob = HrKv[0:1]\n",
    "\n",
    "\n",
    "print(f\"View tag for Bob (Output 1): {hexlify(view_tag_bob).decode()}\")\n"
   ]
  },
  {
   "attachments": {},
   "cell_type": "markdown",
   "metadata": {},
   "source": [
    "The process of creating a random address to receive the zero amount output starts similar to normal change that is actually destined for Alice. But instead of adding Alice's public spend key, the calculation adds a randomly generated public spend key. To show the process of creating this stealth address the calculations \"back into\" the randomly generated public spend key by using the first stealth address from the actual transaction data and subtracting off an interediate step. That is obviously not the standard process (subtracting off a value) but is included for clarity to show the randomly generated public spend key."
   ]
  },
  {
   "cell_type": "code",
   "execution_count": 5,
   "metadata": {},
   "outputs": [
    {
     "name": "stdout",
     "output_type": "stream",
     "text": [
      "Stealth address for zero amount (Output 0): 4e9451dd54125562c76cb59decc500b396fb2f6dc73f95876adaa6729c7db3f8\n"
     ]
    }
   ],
   "source": [
    "'''\n",
    "Zero to Monero: Second Edition; Section 4.2\n",
    "'''\n",
    "\n",
    "\n",
    "'''\n",
    "To calculate a stealth address this code performs the following:\n",
    "\n",
    "  1. Multiplies Alice's public view key by the transaction public key\n",
    "  2. Concatenates the value created in step 1 and an index identifying \n",
    "     the output number (uses zero indexing)\n",
    "  3. Hashes this value with Keccack\n",
    "  4. Multiplies this by G to create a new curve point\n",
    "  **** Begin: Normally not required\n",
    "  5. Uses the actual send to identify the real stealth address calculated\n",
    "  6. Subtracts the value in step 4 from the value in step 5 to get the fake public spend key\n",
    "  **** End: Normally not required\n",
    "  7. Adds the public spend key from step 6 to the curve point from step 4\n",
    "'''\n",
    "\n",
    "public_view_key_alice = \"b981d77369cbf23725d61cceb6f6686b7e435ca52e2ccf518f560cc71fc54867\"\n",
    "public_spend_key_alice = \"cac88399eed832989df44ae91a0df5650040be8cfbe21b9570466432e6286d37\"\n",
    "stealth_address_0 = \"4e9451dd54125562c76cb59decc500b396fb2f6dc73f95876adaa6729c7db3f8\"\n",
    "\n",
    "# define a function to subtract to curve points\n",
    "point_sub = nacl.bindings.crypto_core_ed25519_sub\n",
    "\n",
    "\n",
    "# multiply Alice's public view key by the transaction key to obtain rKv: rKv = r * G\n",
    "rKv = scalar_point_mult(unhexlify(r), unhexlify(public_view_key_alice))\n",
    "\n",
    "# multiply by 8, required by Monero\n",
    "rKv = scalar_point_mult(cofactor, rKv)\n",
    "\n",
    "# concatenate rKv and an integer index to indicate this output is the first output (zero indexing)\n",
    "rKv_concat_extra_index = rKv + varint.encode(0)\n",
    "\n",
    "# hash the previously concatenated value to create H(rKv)\n",
    "HrKv = keccak_256(rKv_concat_extra_index)\n",
    "\n",
    "# multiply the scalar by the ed25519 generator point to obtain a new curve point\n",
    "HrKvG = scalar_mult_G(HrKv)\n",
    "\n",
    "# intermediate step to obtain the randomly generated zero amount public spend key\n",
    "public_spend_key_random = point_sub(unhexlify(stealth_address_0), HrKvG)\n",
    "\n",
    "# recalculate the stealth address for clarity: stealth address  = H(rKv)G + public_spend_key\n",
    "stealth_address_zero_amount = point_add(HrKvG, public_spend_key_random)\n",
    "\n",
    "\n",
    "print(f\"Stealth address for zero amount (Output 0): {hexlify(stealth_address_zero_amount).decode()}\")\n"
   ]
  },
  {
   "cell_type": "code",
   "execution_count": 6,
   "metadata": {},
   "outputs": [
    {
     "name": "stdout",
     "output_type": "stream",
     "text": [
      "View tag for zero amount (Output 0): bf\n"
     ]
    }
   ],
   "source": [
    "'''\n",
    "Not present in  Zero to Monero: Second Edition\n",
    "'''\n",
    "\n",
    "\n",
    "'''\n",
    "To calculate the view tag this code performs the following:\n",
    "\n",
    "  1. Concatenates the string \"view_tag\" with the value rKv created for\n",
    "     the stealth address in the prior section and an index identifying the \n",
    "     output number (uses zero indexing)\n",
    "  2. Hashes this value with Keccack\n",
    "  3. Extracts the first byte from this hash\n",
    "'''\n",
    "\n",
    "# concatenate the string \"view_tag\", rKv, and a transaction index integer\n",
    "rKv_concat_extra_index = b\"view_tag\" + rKv + varint.encode(0)\n",
    "\n",
    "# hash the previously concatenated value to create H(rKv)\n",
    "HrKv = keccak_256(rKv_concat_extra_index)\n",
    "\n",
    "# the view tag is the first byte of this hashed string\n",
    "view_tag_zero_amount = HrKv[0:1]\n",
    "\n",
    "\n",
    "print(f\"View tag for zero amount (Output 0): {hexlify(view_tag_zero_amount).decode()}\")\n"
   ]
  },
  {
   "attachments": {},
   "cell_type": "markdown",
   "metadata": {},
   "source": [
    "## 4. Encrypting payment id\n",
    "\n",
    "All transactions include a payment id. If the sender doesn't choose one then the payment id is set to 0 and then encrypted. The encrypted payment id is created as though it were meant for Bob and not the zero amount change output."
   ]
  },
  {
   "cell_type": "code",
   "execution_count": 7,
   "metadata": {},
   "outputs": [
    {
     "name": "stdout",
     "output_type": "stream",
     "text": [
      "Payment id: 0000000000000000\n",
      "Encrypted payment id: 462650609010339e\n",
      "Encrypted payment id (list form for extra field): [70, 38, 80, 96, 144, 16, 51, 158]\n"
     ]
    }
   ],
   "source": [
    "'''\n",
    "Zero to Monero: Second Edition; Section 4.4 (but applied to regular addresses not integrated addresses)\n",
    "'''\n",
    "\n",
    "\n",
    "'''\n",
    "To create the payment id this code performs the following:\n",
    "\n",
    "  1. Multiplied Bob's public view key by the transaction key\n",
    "  2. Concatenates the value rKv and a Monero constant (the integer 141 as bytes)\n",
    "  3. Creates an obfuscation mask from the value in step 1\n",
    "  4. Created a zero payment id 8 bytes in length\n",
    "  5. Truncates the obfuscation mask to 8 bytes\n",
    "  6. Encrypts the payment id by applying bitwise xor operation with the value from step 2\n",
    "  7. Displays the encrypted payment id as a list of byte values displayed as integers\n",
    "'''\n",
    "\n",
    "# define a function to calculate exclusive or between bits in two variables\n",
    "def calculate_xor(var1, var2):\n",
    "    return bytearray(a ^ b for a, b in zip(*map(bytearray, (var1, var2))))\n",
    "\n",
    "\n",
    "# multiply Alice's public view key by the transaction key to obtain rKv: rKv = r * G\n",
    "rKv = scalar_point_mult(unhexlify(r), unhexlify(public_view_key_bob))\n",
    "\n",
    "# multiply by 8, required by Monero\n",
    "rKv = scalar_point_mult(cofactor, rKv)\n",
    "\n",
    "# convert the number 141 to bytes \n",
    "encrypted_payment_id_tail = int(141).to_bytes()\n",
    "\n",
    "# create obfuscation mask\n",
    "payment_id_mask = rKv + encrypted_payment_id_tail\n",
    "payment_id_mask = keccak_256(payment_id_mask)\n",
    "\n",
    "# payment id of zeros\n",
    "payment_id = int(0).to_bytes(8)\n",
    "\n",
    "# truncate obfuscation mask to length of encrypted payment id\n",
    "truncated_payment_id_mask = payment_id_mask[: len(payment_id)]\n",
    "\n",
    "# apply binary xor operation to encrypted payment id\n",
    "encrypted_payment_id = calculate_xor(truncated_payment_id_mask, payment_id)\n",
    "\n",
    "\n",
    "print(f\"Payment id: {hexlify(payment_id).decode()}\")\n",
    "print(f\"Encrypted payment id: {hexlify(encrypted_payment_id).decode()}\")\n",
    "print(f\"Encrypted payment id (list form for extra field): {list(encrypted_payment_id)}\")"
   ]
  },
  {
   "attachments": {},
   "cell_type": "markdown",
   "metadata": {},
   "source": [
    "## 5. Creating transaction extra field\n",
    "\n",
    "The transaction public key and encrypted payment id do not have their own defined field. Instead they are stored in the `extra` section of a transaction. The `extra` section can contain arbitrary data so special identifiers are used to \"flag\" specific data. The transaction public key is the first entry in `extra` and is prepended with the integer `1`. The encrypted payment id is the second entry in `extra` and is prepended with the integer `2` to indicate it is an encrypted payment id, and the integer `9` to indicate that there will be 9 bytes following the number `2`. This is all presented as a list of integers corresponding to the byte values of the original data."
   ]
  },
  {
   "cell_type": "code",
   "execution_count": 8,
   "metadata": {},
   "outputs": [
    {
     "name": "stdout",
     "output_type": "stream",
     "text": [
      "Transaction extra field (extra): [1, 2, 134, 65, 142, 182, 174, 126, 7, 146, 120, 25, 227, 171, 11, 251, 154, 237, 231, 18, 202, 2, 53, 37, 34, 233, 208, 240, 129, 223, 61, 135, 61, 2, 9, 70, 38, 80, 96, 144, 16, 51, 158]\n"
     ]
    }
   ],
   "source": [
    "'''\n",
    "Zero to Monero: Second Edition; Section 4.4 (but applied to regular addresses not integrated addresses)\n",
    "'''\n",
    "\n",
    "\n",
    "'''\n",
    "To create the payment id this code performs the following:\n",
    "\n",
    "  1. Multiplied Bob's public view key by the transaction key\n",
    "  2. Concatenates the value rKv and a Monero constant (the integer 141 as bytes)\n",
    "  3. Creates an obfuscation mask from the value in step 1\n",
    "  4. Created a zero payment id 8 bytes in length\n",
    "  5. Truncates the obfuscation mask to 8 bytes\n",
    "  6. Encrypts the payment id by applying bitwise xor operation with the value from step 2\n",
    "  7. Displays the encrypted payment id as a list of byte values displayed as integers\n",
    "'''\n",
    "\n",
    "# include a transaction public key identifier\n",
    "extra = [1]\n",
    "\n",
    "# convert the transaction public key to a list of integers and add to extra\n",
    "extra.extend(list(rG))\n",
    "\n",
    "# include an encrypted payment id identifier\n",
    "extra.append(2)\n",
    "\n",
    "# include an identifer for the number of integers to follow including this one\n",
    "extra.append(9)\n",
    "\n",
    "# convert the encrypted payment id to a list of integers and add to extra\n",
    "extra.extend(list(encrypted_payment_id))\n",
    "\n",
    "\n",
    "print(f\"Transaction extra field (extra): {extra}\")"
   ]
  },
  {
   "attachments": {},
   "cell_type": "markdown",
   "metadata": {},
   "source": [
    "### Summary\n",
    "**What we start with:**\n",
    "* Bob's Monero address: `49FgswTBtGdTZQPj7e16qc4jrWY5VuGE2aDoaMDEALknZeTy5vcjkcsCrh4deo231LKcACcjgALFji4c4SYQF5WdNCLvkN3`\n",
    "* Alice's public view key: `b981d77369cbf23725d61cceb6f6686b7e435ca52e2ccf518f560cc71fc54867`\n",
    "* Alice's public spend key: `cac88399eed832989df44ae91a0df5650040be8cfbe21b9570466432e6286d37`\n",
    "\n",
    "**What we end up with:**\n",
    "* Bob's public spend key: `c95c75de8c46a69ec8b190ce1fde47165a686385910fafc69d2472ffeaddcfc3`\n",
    "* Bob's public view key: `2d67eaa5f16c0c46e3052dccd0dc036f3d35bca0855f5af57e9997b63f6506bb`\n",
    "* transaction key (r): `42adc98ec7a15451f3a21750b2172e14d851191a7c07d247591bbd063b698a02`\n",
    "* transaction public key (rG): `0286418eb6ae7e07927819e3ab0bfb9aede712ca02352522e9d0f081df3d873d`\n",
    "* encrypted payment id: `[70, 38, 80, 96, 144, 16, 51, 158]`\n",
    "* stealth address (for Bob): `07ab8e6d3981d84b50f0d02ec45c2232ba239159db2f15adf44947535be13967`\n",
    "* view tag (for Bob): `c6`\n",
    "* stealth address (for zero change): `4e9451dd54125562c76cb59decc500b396fb2f6dc73f95876adaa6729c7db3f8`\n",
    "* view tag (for zero change): `bf`\n",
    "* transaction extra field (extra): `[1,2,134,65,142,182,174,126,7,146,120,25,227,171,11,251,154,237,231,18,202,2,53,37,34,233,208,240,129,223,61,135,61,2,9,70,38,80,96,144,16,51,158]`"
   ]
  }
 ],
 "metadata": {
  "kernelspec": {
   "display_name": "monero-tutorial",
   "language": "python",
   "name": "python3"
  },
  "language_info": {
   "codemirror_mode": {
    "name": "ipython",
    "version": 3
   },
   "file_extension": ".py",
   "mimetype": "text/x-python",
   "name": "python",
   "nbconvert_exporter": "python",
   "pygments_lexer": "ipython3",
   "version": "3.11.3"
  },
  "orig_nbformat": 4
 },
 "nbformat": 4,
 "nbformat_minor": 2
}
