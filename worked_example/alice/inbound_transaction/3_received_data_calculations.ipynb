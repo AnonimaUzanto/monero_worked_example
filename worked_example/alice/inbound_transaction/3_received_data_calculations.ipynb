{
 "cells": [
  {
   "attachments": {},
   "cell_type": "markdown",
   "metadata": {},
   "source": [
    "# III. Identifying Spend Requirements\n",
    "\n",
    "At the conclusion of the prior section Alice had identified an output that was destined to her, recovered the payment id, and recovered the payment amount. This section will calculate and recover additional information in the transaction that is required for Alice to be able to spend the output in a later transaction she will make. A later section will cover validation of a transaction by a miner, but for now it will be assumed that the transaction Alice found in the blockchain is valid.\n",
    "\n",
    "This section relies heavliy on the following source:\n",
    "* [Zero to Monero: Second Edition; Chapter 5](https://www.getmonero.org/library/Zero-to-Monero-2-0-0.pdf)\n",
    "\n",
    "\n",
    "**It is highly recommended that the reader read chapter 5 of *Zero to Monero: Second Edition* prior to reading the following sections.**\n",
    "\n",
    "The sections below cover:\n",
    "1. extracting relevant data from transaction\n",
    "2. calculating stealth address private key\n",
    "3. calculating amount commitment blinding factor (y)\n",
    "4. calculating key image (K~)"
   ]
  },
  {
   "attachments": {},
   "cell_type": "markdown",
   "metadata": {},
   "source": [
    "### Summary (Introduction)\n",
    "\n",
    "**What we need (previousy calculated):**\n",
    "* Alice's private view key: `e04769b2067f76a7942c903f6782e75f2d2dd49437a6bb671e9d8ef09d9fc70b`\n",
    "* Alice's private spend key: `30f5af5d3b2a206708c56bb7a2238d2006e47b10cc3ec92b240e1982ecbfc805`\n",
    "* Alice's public spend key: `cac88399eed832989df44ae91a0df5650040be8cfbe21b9570466432e6286d37`\n",
    "* Alice's public view key: `b981d77369cbf23725d61cceb6f6686b7e435ca52e2ccf518f560cc71fc54867`\n",
    "* transaction public key (rG): `587a7d33f0b28ee85cfeeee0da7cab9ff5c348a648fee350099f95ccf2e3cc39`\n",
    "* stealth address: `6f598be2c3c473ccff7ad1fb42ed46660bae0ea353d71192afe1a520aacb9374`\n",
    "* payment amount (b): `69300000`\n",
    "\n",
    "**What we start with (from the transaction data):**\n",
    "* committment\n",
    "\n",
    "**What we end up with:**\n",
    "* stealth address private key\n",
    "* committment blinding factor (y)\n",
    "* key image base \n",
    "* key image "
   ]
  },
  {
   "attachments": {},
   "cell_type": "markdown",
   "metadata": {},
   "source": [
    "## 1. Extracting relevant data from the transaction\n",
    "\n",
    "The one final piece of information Alice will need from the transaction data to spend the output is the amount committment. The purpose of this will be explained later. \n",
    "\n",
    "* amount commitment\n",
    "    * included in the `rct_signatures \\ outPk` section of the transaction"
   ]
  },
  {
   "cell_type": "code",
   "execution_count": 1,
   "metadata": {},
   "outputs": [],
   "source": [
    "# read data directly from the saved transaction\n",
    "import json\n",
    "\n",
    "with open(\"../../transactions/inbound/txn_be71.json\", \"r\") as file:\n",
    "    txn = json.load(file)\n",
    "\n",
    "committment = txn[\"rct_signatures\"][\"outPk\"]"
   ]
  },
  {
   "attachments": {},
   "cell_type": "markdown",
   "metadata": {},
   "source": [
    "The `rct_signatures \\ outPk` section contains one commitment per transaction output. The committments are in the same order as the transaction outputs. Previously Alice identified that the first transaction output was destined to her. Both committments are displayed for completeness, but only the first committment is usable by Alice."
   ]
  },
  {
   "cell_type": "code",
   "execution_count": 2,
   "metadata": {},
   "outputs": [
    {
     "name": "stdout",
     "output_type": "stream",
     "text": [
      "Committment 0 (Alice's): 3f12cbc228a3c2d8110466bfa0db1aa36542f1f2ee30afc45767c8b99636c797\n",
      "Committment 1 (not Alice's): 3b24a945cda8b1466984704b96d51bcbe77f84d60aa8be200d8de1e9503b7b36\n",
      "Field (outPk): ['3f12cbc228a3c2d8110466bfa0db1aa36542f1f2ee30afc45767c8b99636c797', '3b24a945cda8b1466984704b96d51bcbe77f84d60aa8be200d8de1e9503b7b36']\n"
     ]
    }
   ],
   "source": [
    "'''\n",
    "Zero to Monero: Second Edition; Appendix A\n",
    "'''\n",
    "\n",
    "# extract committments from list\n",
    "committment_0 = committment[0]\n",
    "committment_1 = committment[1]\n",
    "\n",
    "print(f\"Committment 0 (Alice's): {committment_0}\")\n",
    "print(f\"Committment 1 (not Alice's): {committment_1}\")\n",
    "print(f\"Field (outPk): {committment}\")"
   ]
  },
  {
   "attachments": {},
   "cell_type": "markdown",
   "metadata": {},
   "source": [
    "## 2. Calculating stealth address private key\n",
    "\n",
    "Recall that Alice only required her private **view** key to identify the stealth address that was destined to her. To calculate the stealth address's corresponding private key she will need to use her spend key. The stealth address private key is required to spend the output."
   ]
  },
  {
   "cell_type": "code",
   "execution_count": 3,
   "metadata": {},
   "outputs": [
    {
     "name": "stdout",
     "output_type": "stream",
     "text": [
      "Stealth address private key (Output 0): 9c5a754f43e4e65ee525ca56f813dd9ddf75cd59e7b24c2aae6ed6dcc661cb06\n"
     ]
    }
   ],
   "source": [
    "'''\n",
    "Zero to Monero: Second Edition; Section 4.2\n",
    "'''\n",
    "\n",
    "\n",
    "'''\n",
    "To calculate the stealth address private key this code performs the following:\n",
    "\n",
    "  1. Recalculates HrKv from the prior section for the first stealth address\n",
    "  2. Adds Alice's private spend key to the step 1 output\n",
    "'''\n",
    "\n",
    "import nacl.bindings\n",
    "import varint\n",
    "\n",
    "from binascii import hexlify, unhexlify\n",
    "from Cryptodome.Hash import keccak\n",
    "\n",
    "\n",
    "# define a function to return a hashed byte string\n",
    "def keccak_256(data):\n",
    "    return keccak.new(digest_bits=256).update(data).digest()\n",
    "\n",
    "\n",
    "# define a function to add two scalars (eg: two integers)\n",
    "scalar_add = nacl.bindings.crypto_core_ed25519_scalar_add\n",
    "\n",
    "\n",
    "# previously calculated from Alice's mnemonic\n",
    "private_spend_key = \"30f5af5d3b2a206708c56bb7a2238d2006e47b10cc3ec92b240e1982ecbfc805\"\n",
    "private_view_key = \"e04769b2067f76a7942c903f6782e75f2d2dd49437a6bb671e9d8ef09d9fc70b\"\n",
    "\n",
    "\n",
    "# previously extracted from transaction data\n",
    "rG = \"587a7d33f0b28ee85cfeeee0da7cab9ff5c348a648fee350099f95ccf2e3cc39\"\n",
    "\n",
    "\n",
    "### begin section: this is repeated from 2_ownership_calculation for clarity\n",
    "scalar_point_mult = nacl.bindings.crypto_scalarmult_ed25519_noclamp\n",
    "cofactor = int(8).to_bytes(32, byteorder=\"little\")\n",
    "rKv = scalar_point_mult(unhexlify(private_view_key), unhexlify(rG))\n",
    "rKv = scalar_point_mult(cofactor, rKv)\n",
    "rKv_concat_extra_index = rKv + varint.encode(0)\n",
    "HrKv = keccak_256(rKv_concat_extra_index)\n",
    "### end section\n",
    "\n",
    "\n",
    "# previously calculated H(rKv)\n",
    "stealth_address_private_key_0 = scalar_add(HrKv, unhexlify(private_spend_key))\n",
    "\n",
    "\n",
    "print(f\"Stealth address private key (Output 0): {hexlify(stealth_address_private_key_0).decode()}\")"
   ]
  },
  {
   "attachments": {},
   "cell_type": "markdown",
   "metadata": {},
   "source": [
    "This section is added only to clarify that the stealth address private key corresponds to the stealth address. If the stealth address private key is correct then the stealth address can be calculated as (stealth_address_private_key * G). Recall that the stealth address from transaction data is: `6f598be2c3c473ccff7ad1fb42ed46660bae0ea353d71192afe1a520aacb9374`."
   ]
  },
  {
   "cell_type": "code",
   "execution_count": 4,
   "metadata": {},
   "outputs": [
    {
     "name": "stdout",
     "output_type": "stream",
     "text": [
      "Stealth address (recalculated) (Output 0): 6f598be2c3c473ccff7ad1fb42ed46660bae0ea353d71192afe1a520aacb9374\n",
      "Stealth address (from transaction data) (Output 0): 6f598be2c3c473ccff7ad1fb42ed46660bae0ea353d71192afe1a520aacb9374\n"
     ]
    }
   ],
   "source": [
    "'''\n",
    "Zero to Monero: Second Edition; Section 4.2\n",
    "'''\n",
    "\n",
    "\n",
    "'''\n",
    "To recalculate the stealth address this code performs the following:\n",
    "\n",
    "  1. Multiplies the stealth address private key by the generator point G\n",
    "'''\n",
    "\n",
    "# define a function to multiply a scalar by the base point G\n",
    "scalar_mult_G = nacl.bindings.crypto_scalarmult_ed25519_base_noclamp\n",
    "\n",
    "# recalculate the stealth address as stealth_address_private_key * G\n",
    "recalculated_stealth_address_0 = scalar_mult_G(stealth_address_private_key_0)\n",
    "\n",
    "\n",
    "print(f\"Stealth address (recalculated) (Output 0): {hexlify(recalculated_stealth_address_0).decode()}\")\n",
    "print(f\"Stealth address (from transaction data) (Output 0): 6f598be2c3c473ccff7ad1fb42ed46660bae0ea353d71192afe1a520aacb9374\")"
   ]
  },
  {
   "attachments": {},
   "cell_type": "markdown",
   "metadata": {},
   "source": [
    "For clarity the same calculations will be performed for the second transaction output. This should produce a *private key* that is invalid and that cannot be used to recover the stealth address. Recall that the second transaction output stealth address available from the transaction data is: `9cb1ec2a60e305dbb65c575c9bef4157ca1db7ae8d0a581aceb6f5c3855ad299`."
   ]
  },
  {
   "cell_type": "code",
   "execution_count": 5,
   "metadata": {},
   "outputs": [
    {
     "name": "stdout",
     "output_type": "stream",
     "text": [
      "Stealth address private key (Output 1): eb2f0a9a5524c4bd09ebc8b19aa7a9b07a6c988b9c70956224ac251bc37a4d03\n",
      "Stealth address (recalculated) (Output 1): 6ac4a840b7c001562c297adc08dd1c2d8ccbd72a3562e05fda7f2a0c5cb263df\n",
      "Stealth address (from transaction data) (Output 1): 9cb1ec2a60e305dbb65c575c9bef4157ca1db7ae8d0a581aceb6f5c3855ad299\n"
     ]
    }
   ],
   "source": [
    "# define a function to add two scalars (eg: two integers)\n",
    "scalar_add = nacl.bindings.crypto_core_ed25519_scalar_add\n",
    "\n",
    "\n",
    "### begin section: this is repeated from 2_ownership_calculation for clarity\n",
    "scalar_point_mult = nacl.bindings.crypto_scalarmult_ed25519_noclamp\n",
    "cofactor = int(8).to_bytes(32, byteorder=\"little\")\n",
    "rKv = scalar_point_mult(unhexlify(private_view_key), unhexlify(rG))\n",
    "rKv = scalar_point_mult(cofactor, rKv)\n",
    "rKv_concat_extra_index = rKv + varint.encode(1)\n",
    "HrKv = keccak_256(rKv_concat_extra_index)\n",
    "### end section\n",
    "\n",
    "\n",
    "# previously calculated H(rKv)\n",
    "stealth_address_private_key_1 = scalar_add(HrKv, unhexlify(private_spend_key))\n",
    "recalculated_stealth_address_1 = scalar_mult_G(stealth_address_private_key_1)\n",
    "\n",
    "\n",
    "print(f\"Stealth address private key (Output 1): {hexlify(stealth_address_private_key_1).decode()}\")\n",
    "print(f\"Stealth address (recalculated) (Output 1): {hexlify(recalculated_stealth_address_1).decode()}\")\n",
    "print(f\"Stealth address (from transaction data) (Output 1): 9cb1ec2a60e305dbb65c575c9bef4157ca1db7ae8d0a581aceb6f5c3855ad299\")"
   ]
  },
  {
   "attachments": {},
   "cell_type": "markdown",
   "metadata": {},
   "source": [
    "## 3. Calculating amount commitment blinding factor\n",
    "\n",
    "Alice previously decoded the payment amount that was stored in the transaction data field `ecdhInfo \\ amount`. That field indicated she was sent 69300000 piconero, or 0.0000693 Monero. Decoding that field was all Alice needed to do to know how much Monero she was sent. Spending that Monero requires additional data. To spend Monero Alice will need to provide a validator enough information to confirm the transaction is valid without providing a specific amount. She will need to use data that was also used in calculating the commitment in the transaction destined to her. The outPk field contains a commitment to the amount Alice recieved, and the commitment is a curve point. When Alice spends her Monero she will need to create a new commitment, and will require data that was used in the existing commitment. The specifics of the sending process will be walked through later. This section will cover recreating the required data from the existing commitment. "
   ]
  },
  {
   "cell_type": "code",
   "execution_count": 6,
   "metadata": {},
   "outputs": [
    {
     "name": "stdout",
     "output_type": "stream",
     "text": [
      "Blinding factor (y): 67f2cd5597666bef76bf1dd4a40d201ea4b4013848332b68bbabcbbe8bf9a408\n"
     ]
    }
   ],
   "source": [
    "'''\n",
    "Zero to Monero: Second Edition; Section 5.3\n",
    "'''\n",
    "\n",
    "\n",
    "'''\n",
    "To decode the commitment field this code performs the following:\n",
    "\n",
    "  1. Concatenates the byte string \"commitment_mask\" and the value HrKv\n",
    "  2. Ensures this is a valid curve scalar and stores it as \"y\" - the blinding factor\n",
    "'''\n",
    "\n",
    "import nacl.bindings\n",
    "\n",
    "from binascii import hexlify, unhexlify\n",
    "\n",
    "\n",
    "# define a function to convert an integer into a valid ed25519 scalar\n",
    "def pad_and_reduce(point):\n",
    "    point_padded_to_64_bytes = point + (64 - len(point)) * b\"\\0\"\n",
    "    return nacl.bindings.crypto_core_ed25519_scalar_reduce(point_padded_to_64_bytes)\n",
    "\n",
    "\n",
    "### begin section: this is repeated from 2_ownership_calculation for clarity\n",
    "scalar_point_mult = nacl.bindings.crypto_scalarmult_ed25519_noclamp\n",
    "cofactor = int(8).to_bytes(32, byteorder=\"little\")\n",
    "rKv = scalar_point_mult(unhexlify(private_view_key), unhexlify(rG))\n",
    "rKv = scalar_point_mult(cofactor, rKv)\n",
    "rKv_concat_extra_index = rKv + varint.encode(0)\n",
    "HrKv = keccak_256(rKv_concat_extra_index)\n",
    "HrKv = pad_and_reduce(HrKv)\n",
    "### end section\n",
    "\n",
    "\n",
    "#  y = hash(\"commitment_mask\" + hash(rKv + index))\n",
    "y = keccak_256(b\"commitment_mask\" + HrKv)\n",
    "\n",
    "# ensure y is a valid ed25519 scalar\n",
    "y = pad_and_reduce(y)\n",
    "\n",
    "\n",
    "print(f\"Blinding factor (y): {hexlify(y).decode()}\")"
   ]
  },
  {
   "attachments": {},
   "cell_type": "markdown",
   "metadata": {},
   "source": [
    "Alice has obtained the blinding factor (y) she will need to spend the payment amount in future transactions. The following section is added for clarity to show that the commitment in the transaction was created using the blinding factor (y) and the payment amount (b). Specifically the commitment was calculated as: commitment = yG + bH. H is different curve point for which no one knows the private key. It is calculated from G."
   ]
  },
  {
   "cell_type": "code",
   "execution_count": 7,
   "metadata": {},
   "outputs": [
    {
     "name": "stdout",
     "output_type": "stream",
     "text": [
      "Curve point yG: 8940ca12e99330f303bd93690ddbcfda2995f623b31ab0129b8b91d6a4857321\n",
      "Curve point bH: e47367cf908541071c082a16b68250b5710b08ac5a9b16072b216e9dbea85d31\n",
      "Commitment (recalculated) (Output 0): 3f12cbc228a3c2d8110466bfa0db1aa36542f1f2ee30afc45767c8b99636c797\n",
      "Commitment (from transaction data) (Output 0): 3f12cbc228a3c2d8110466bfa0db1aa36542f1f2ee30afc45767c8b99636c797\n"
     ]
    }
   ],
   "source": [
    "'''\n",
    "Zero to Monero: Second Edition; Section 5.3\n",
    "'''\n",
    "\n",
    "\n",
    "'''\n",
    "To recreate the commitment field this code performs the following:\n",
    "\n",
    "  1. Calculate yG by multiplying the blinding factor (y) by the generator point G\n",
    "  2. Create the curve point H from the generator point G\n",
    "  3. Encode the amount (b) as bytes\n",
    "  4. Calculate bH by multiplying the amount (b) by the point H\n",
    "  5. Add yG and bH \n",
    "'''\n",
    "\n",
    "# define a function to multiply a scalar by the base point G\n",
    "scalar_mult_G = nacl.bindings.crypto_scalarmult_ed25519_base_noclamp\n",
    "\n",
    "# define a function to add to curve points\n",
    "point_add = nacl.bindings.crypto_core_ed25519_add\n",
    "\n",
    "# define a function that allows multiplying a curve point by a scalar (eg: integer)\n",
    "scalar_point_mult = nacl.bindings.crypto_scalarmult_ed25519_noclamp\n",
    "\n",
    "# Monero multiplies curve points by 8, create 8 in bytes for use in calculations\n",
    "cofactor = int(8).to_bytes(32, byteorder=\"little\")\n",
    "\n",
    "\n",
    "# calculate yG\n",
    "yG = scalar_mult_G(y)\n",
    "\n",
    "\n",
    "### begin section: recreate the curve point H\n",
    "# obtain the curve point G (uses G*1 = G)\n",
    "G = scalar_mult_G(int(1).to_bytes(32, byteorder=\"little\"))\n",
    "\n",
    "# hash G to a number and directly interpret this as the y-coordinate for a curve point\n",
    "H = keccak_256(G)\n",
    "\n",
    "# multiply H by the cofactor 8 to ensure it is in the prime order subgroup\n",
    "H = scalar_point_mult(cofactor, H)\n",
    "### end section: recreate the curve point H\n",
    "\n",
    "\n",
    "# recode payment amount as 32 bytes\n",
    "b = int(69300000).to_bytes(32, byteorder=\"little\")\n",
    "\n",
    "# calculate bH\n",
    "bH = scalar_point_mult(b, H)\n",
    "\n",
    "# calculate commitment: yG + bH\n",
    "recalculated_committment_0 = point_add(yG, bH)\n",
    "\n",
    "\n",
    "print(f\"Curve point yG: {hexlify(yG).decode()}\")\n",
    "print(f\"Curve point bH: {hexlify(bH).decode()}\")\n",
    "print(f\"Commitment (recalculated) (Output 0): {hexlify(recalculated_committment_0).decode()}\")\n",
    "print(f\"Commitment (from transaction data) (Output 0): {committment_0}\")"
   ]
  },
  {
   "attachments": {},
   "cell_type": "markdown",
   "metadata": {},
   "source": [
    "One question that may arise is, why can't the amount be recovered directly from the commitment rather than being stored again in a separate location `ecdhInfo \\ amount`? Recall that the commitment is yG + bH. Alice has access to G and H (known curve points), and can calculate y and thus yG. Alice could subtract yG from the commitment to obtain bH. Given bH and H can Alice recover b? No. In this instance b is the private key for the curve point bH, and it is not possible to recover a prive key. That is why the amount is stored in both the commitment and in the amount field."
   ]
  },
  {
   "attachments": {},
   "cell_type": "markdown",
   "metadata": {},
   "source": [
    "## 4. Calculate key image\n",
    "\n",
    "The use of a key image will be explained in a later section when Alice sends her Monero to Bob. The calculations are included in this section because the key image and key image base are calculated using only data from the received transaction and Alice's keys."
   ]
  },
  {
   "cell_type": "code",
   "execution_count": 8,
   "metadata": {},
   "outputs": [
    {
     "name": "stdout",
     "output_type": "stream",
     "text": [
      "Key image base (Output 0): a05f0062aea80f577d029bb93683d3c55fa8378510e9a7350cc2a778814ee1dd\n",
      "Key image (Output 0): 5631d2eacb1d2c88ba2e4625604c0312d33e156727448db8e2f55b5e4f83bd01\n"
     ]
    }
   ],
   "source": [
    "'''\n",
    "Zero to Monero: Second Edition; Section 3.4\n",
    "'''\n",
    "\n",
    "\n",
    "'''\n",
    "To the key image this code performs the following:\n",
    "\n",
    "  1. Calculate a keccak hash of the stealth address\n",
    "  2. Apply modulus to ensure hash is within the curve order\n",
    "  3. Directly convert the hashed value to a curve point\n",
    "  4. Multiply the curve point by the stealth address private key\n",
    "'''\n",
    "\n",
    "import nacl.bindings\n",
    "\n",
    "from Cryptodome.Hash import keccak\n",
    "from binascii import hexlify, unhexlify\n",
    "\n",
    "\n",
    "stealth_address = \"6f598be2c3c473ccff7ad1fb42ed46660bae0ea353d71192afe1a520aacb9374\"\n",
    "\n",
    "\n",
    "# hash public key, convert to integer modulus prime field, convert back to bytes\n",
    "hashed_stealth_address_public_key = keccak.new(digest_bits=256).update(unhexlify(stealth_address)).digest()\n",
    "q = 2**255 - 19\n",
    "hash_as_int = int.from_bytes(hashed_stealth_address_public_key, byteorder=\"little\") % q\n",
    "hash_as_int = hash_as_int.to_bytes(32, byteorder=\"little\")\n",
    "\n",
    "# use nacl bindings to map modified hashed value to a curve point\n",
    "curve_point_from_hash = nacl.bindings.crypto_core_ed25519_from_uniform(hash_as_int)\n",
    "\n",
    "# need to review: nacl compression is resulting in a different encoding than Monero\n",
    "msb = curve_point_from_hash[-1] | 0x80\n",
    "modified_curve_point_from_hash = curve_point_from_hash[:-1] + bytes([msb])\n",
    "\n",
    "# calculate key image\n",
    "key_image = nacl.bindings.crypto_scalarmult_ed25519_noclamp(stealth_address_private_key_0, modified_curve_point_from_hash)\n",
    "\n",
    "print(f\"Key image base (Output 0): {hexlify(modified_curve_point_from_hash).decode()}\")\n",
    "print(f\"Key image (Output 0): {hexlify(key_image).decode()}\")"
   ]
  },
  {
   "attachments": {},
   "cell_type": "markdown",
   "metadata": {},
   "source": [
    "### Summary (Introduction)\n",
    "\n",
    "**What we need (previousy calculated):**\n",
    "* Alice's private view key: `e04769b2067f76a7942c903f6782e75f2d2dd49437a6bb671e9d8ef09d9fc70b`\n",
    "* Alice's private spend key: `30f5af5d3b2a206708c56bb7a2238d2006e47b10cc3ec92b240e1982ecbfc805`\n",
    "* Alice's public spend key: `cac88399eed832989df44ae91a0df5650040be8cfbe21b9570466432e6286d37`\n",
    "* Alice's public view key: `b981d77369cbf23725d61cceb6f6686b7e435ca52e2ccf518f560cc71fc54867`\n",
    "* transaction public key (rG): `587a7d33f0b28ee85cfeeee0da7cab9ff5c348a648fee350099f95ccf2e3cc39`\n",
    "* stealth address: `6f598be2c3c473ccff7ad1fb42ed46660bae0ea353d71192afe1a520aacb9374`\n",
    "* payment amount (b): `69300000`\n",
    "\n",
    "**What we start with (from the transaction data):**\n",
    "* amount committment: `3f12cbc228a3c2d8110466bfa0db1aa36542f1f2ee30afc45767c8b99636c797`\n",
    "\n",
    "**What we end up with:**\n",
    "* stealth address private key: `9c5a754f43e4e65ee525ca56f813dd9ddf75cd59e7b24c2aae6ed6dcc661cb06`\n",
    "* committment blinding factor (y): `67f2cd5597666bef76bf1dd4a40d201ea4b4013848332b68bbabcbbe8bf9a408`\n",
    "* key image base: `a05f0062aea80f577d029bb93683d3c55fa8378510e9a7350cc2a778814ee1dd`\n",
    "* key image (K~): `5631d2eacb1d2c88ba2e4625604c0312d33e156727448db8e2f55b5e4f83bd01`"
   ]
  }
 ],
 "metadata": {
  "kernelspec": {
   "display_name": "monero-tutorial",
   "language": "python",
   "name": "python3"
  },
  "language_info": {
   "codemirror_mode": {
    "name": "ipython",
    "version": 3
   },
   "file_extension": ".py",
   "mimetype": "text/x-python",
   "name": "python",
   "nbconvert_exporter": "python",
   "pygments_lexer": "ipython3",
   "version": "3.11.3"
  },
  "orig_nbformat": 4
 },
 "nbformat": 4,
 "nbformat_minor": 2
}
