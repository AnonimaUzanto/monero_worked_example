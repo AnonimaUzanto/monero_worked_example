{
 "cells": [
  {
   "attachments": {},
   "cell_type": "markdown",
   "metadata": {},
   "source": [
    "# IV. Summarising Received Transaction\n",
    "\n"
   ]
  },
  {
   "attachments": {},
   "cell_type": "markdown",
   "metadata": {},
   "source": [
    "**What we started with:**\n",
    "* Alice's mnemonic (25 words): `joyous weekday gearbox slower dejected nutshell fuzzy empty wetsuit mighty bawled dummy tufts lawsuit moon bluntly whole cage punch else sayings prying hockey imbalance slower`\n",
    "\n",
    "**What we ended up with:**\n",
    "* Alice's private spend key: `30f5af5d3b2a206708c56bb7a2238d2006e47b10cc3ec92b240e1982ecbfc805` (an integer encoded in hexadecimal)\n",
    "* Alice's private view key: `e04769b2067f76a7942c903f6782e75f2d2dd49437a6bb671e9d8ef09d9fc70b` (an integer encoded in hexadecimal)\n",
    "* Alice's public spend key: `cac88399eed832989df44ae91a0df5650040be8cfbe21b9570466432e6286d37` (a curve point (x,y) compressed to a single integer encoded in hexadecimal)\n",
    "* Alice's public view key: `b981d77369cbf23725d61cceb6f6686b7e435ca52e2ccf518f560cc71fc54867` (a curve point (x,y) compressed to a single integer encoded in hexadecimal)\n",
    "* Alice's Monero address: `49JpAeZ6WGHSXaRD5NVcNQHtqVeVinUTLRzjzwpa4NCLAKbjKY3M1NHAE1AAfUckpFJypVabwrKWnEeEXhAVLmk3CfRTwPb` (18 + public spend key + public view key + checksum encoded in base58)\n",
    "\n",
    "**What we start with (from the transaction data):**\n",
    "* extra field: `[1,88,122,125,51,240,178,142,232,92,254,238,224,218,124,171,159,245,195,72,166,72,254,227,80,9,159,149,204,242,227,204,57,2,9,1,74,0,148,128,156,129,205,185]`\n",
    "\n",
    "**What we ended up with:**\n",
    "* transaction public key (rG): `587a7d33f0b28ee85cfeeee0da7cab9ff5c348a648fee350099f95ccf2e3cc39`\n",
    "* encrypted payment id: `4a0094809c81cdb9`\n",
    "* decrypted payment id: `0000000000000000`\n",
    "\n",
    "**What we start with (from the transaction data):**\n",
    "* view tag: `2a`\n",
    "* stealth address: `6f598be2c3c473ccff7ad1fb42ed46660bae0ea353d71192afe1a520aacb9374`\n",
    "* encrypted amount: `51769df0938cf016`\n",
    "\n",
    "**What we end up with:**\n",
    "* stealth address private key: `9c5a754f43e4e65ee525ca56f813dd9ddf75cd59e7b24c2aae6ed6dcc661cb06`\n",
    "* decrypted amount (piconero): `69300000`\n",
    "* key image base: `a05f0062aea80f577d029bb93683d3c55fa8378510e9a7350cc2a778814ee1dd`\n",
    "* key image (K~): `5631d2eacb1d2c88ba2e4625604c0312d33e156727448db8e2f55b5e4f83bd01`\n",
    "\n",
    "**What we start with (from the transaction data):**\n",
    "* amount committment: `3f12cbc228a3c2d8110466bfa0db1aa36542f1f2ee30afc45767c8b99636c797`\n",
    "\n",
    "**What we end up with:**\n",
    "* committment blinding factor (y): `67f2cd5597666bef76bf1dd4a40d201ea4b4013848332b68bbabcbbe8bf9a408`"
   ]
  }
 ],
 "metadata": {
  "language_info": {
   "name": "python"
  },
  "orig_nbformat": 4
 },
 "nbformat": 4,
 "nbformat_minor": 2
}
