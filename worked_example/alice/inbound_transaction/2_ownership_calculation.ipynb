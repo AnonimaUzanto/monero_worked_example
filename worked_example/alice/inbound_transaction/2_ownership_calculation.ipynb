{
 "cells": [
  {
   "attachments": {},
   "cell_type": "markdown",
   "metadata": {},
   "source": [
    "# II. Identifying Received Transactions\n",
    "\n",
    "This section begins to disect a Monero transation. Alice recieved a transaction from an unknown person, and later sent a transaction to Bob. The ultimate goal is to understand every single portion of a transaction. In this section every portion of a transaction relevant to the receiver identifying ownership will be decoded and explained.\n",
    "\n",
    "This section relies heavliy on the following source:\n",
    "* [Zero to Monero: Second Edition; Chapter 4](https://www.getmonero.org/library/Zero-to-Monero-2-0-0.pdf)\n",
    "\n",
    "\n",
    "**It is highly recommended that the reader read chapter 4 of _Zero to Monero: Second Edition_ prior to reading the following sections.**\n",
    "\n",
    "The sections below cover:\n",
    "1. extracting relevant data from the transaction\n",
    "    1. stealth addresses (K)\n",
    "    2. transaction public key (rG)\n",
    "    3. encrypted payment id\n",
    "2. calculating view tags\n",
    "3. identify owned outputs\n",
    "4. decrypting payment id\n",
    "5. decrypting payment amount"
   ]
  },
  {
   "attachments": {},
   "cell_type": "markdown",
   "metadata": {},
   "source": [
    "### Summary (Introduction)\n",
    "\n",
    "**What we need (previousy calculated):**\n",
    "* Alice's private view key: `e04769b2067f76a7942c903f6782e75f2d2dd49437a6bb671e9d8ef09d9fc70b`\n",
    "* Alice's public spend key: `cac88399eed832989df44ae91a0df5650040be8cfbe21b9570466432e6286d37`\n",
    "* Alice's public view key: `b981d77369cbf23725d61cceb6f6686b7e435ca52e2ccf518f560cc71fc54867`\n",
    "\n",
    "**What we start with (from the transaction data):**\n",
    "* view tag\n",
    "* stealth address (K)\n",
    "* transaction public key (rG)\n",
    "* encrypted payment id\n",
    "* encrypted payment amount\n",
    "\n",
    "**What we end up with:**\n",
    "* decrypted payment id\n",
    "* decrypted payment amount"
   ]
  },
  {
   "attachments": {},
   "cell_type": "markdown",
   "metadata": {},
   "source": [
    "## 1. Extracting relevant data from the transaction\n",
    "\n",
    "Each transaction contains three pieces of information that are used to determine if the transaction was addressed to them. The three pieces of data are:\n",
    "\n",
    "* view tag: one byte of data that allows a quick check to see if the transaction is *likely* to be Alice's\n",
    "    * included in the `vout` section of the transaction\n",
    "* stealth address: one-time public addresses\n",
    "    * included in the `vout` section of the transaction\n",
    "* transaction public key: usually written as `rG`\n",
    "    * included in the `extra` section of the transaction\n",
    "\n",
    "Transactions also contain payment ids (similar to a memo section on a check):\n",
    "\n",
    "* encrypted payment id\n",
    "    * included in the `extra` section of the transaction\n",
    "\n",
    "And transactions contain payment amounts:\n",
    "\n",
    "* encrypted amount\n",
    "    * included in the `rct_signatures` \\ `ecdhInfo` section of the transaction"
   ]
  },
  {
   "cell_type": "code",
   "execution_count": 1,
   "metadata": {},
   "outputs": [],
   "source": [
    "# read data directly from the saved transaction\n",
    "import json\n",
    "\n",
    "with open(\"../../transactions/inbound/txn_be71.json\", \"r\") as file:\n",
    "    txn = json.load(file)\n",
    "\n",
    "vout = txn[\"vout\"]\n",
    "txextra = txn[\"extra\"]\n",
    "amount = txn[\"rct_signatures\"][\"ecdhInfo\"]"
   ]
  },
  {
   "attachments": {},
   "cell_type": "markdown",
   "metadata": {},
   "source": [
    "The `extra` section can contain arbitrary data so rules are used to convert specific data in the field into known purposes. Refer back to Zero to Monero for further clarity on the rules. In this transaction the `extra` field contains the transaction public key and the encrypted payment id. Both will be extracted."
   ]
  },
  {
   "cell_type": "code",
   "execution_count": 2,
   "metadata": {},
   "outputs": [
    {
     "name": "stdout",
     "output_type": "stream",
     "text": [
      "Transaction public key (rG): 587a7d33f0b28ee85cfeeee0da7cab9ff5c348a648fee350099f95ccf2e3cc39\n",
      "Encrypted payment id: 4a0094809c81cdb9\n",
      "Field (extra): [1, 88, 122, 125, 51, 240, 178, 142, 232, 92, 254, 238, 224, 218, 124, 171, 159, 245, 195, 72, 166, 72, 254, 227, 80, 9, 159, 149, 204, 242, 227, 204, 57, 2, 9, 1, 74, 0, 148, 128, 156, 129, 205, 185]\n"
     ]
    }
   ],
   "source": [
    "'''\n",
    "Zero to Monero: Second Edition; Appendix A\n",
    "'''\n",
    "\n",
    "\n",
    "'''\n",
    "To extract data from extra:\n",
    "\n",
    "  1. Extracts 32 bytes of data for the transaction public key and converts to hex\n",
    "  2. Extracts 8 more bytes of data for the payment id and converts to hex\n",
    "'''\n",
    "\n",
    "# read initial 32 bytes of data from the extra field\n",
    "rG = bytes(txextra[1:33]).hex()\n",
    "\n",
    "# read an additional 8 bytes of data from the extra field\n",
    "encrypted_payment_id = bytes(txextra[36:44]).hex()\n",
    "\n",
    "\n",
    "print(f\"Transaction public key (rG): {rG}\")\n",
    "print(f\"Encrypted payment id: {encrypted_payment_id}\")\n",
    "print(f\"Field (extra): {txextra}\")"
   ]
  },
  {
   "attachments": {},
   "cell_type": "markdown",
   "metadata": {},
   "source": [
    "The `vout` section contains a list of items, with one item per recipient. Every transaction has at least two items in the list. In the most common case one of the two items is for the recipient and the other item is change being returned to the sender. As will be shown later the first list item was sent to Alice. The second list item will be used to show that Alice can see it is not addressed to her."
   ]
  },
  {
   "cell_type": "code",
   "execution_count": 3,
   "metadata": {},
   "outputs": [
    {
     "name": "stdout",
     "output_type": "stream",
     "text": [
      "First output view tag: 2a\n",
      "First output stealth address: 6f598be2c3c473ccff7ad1fb42ed46660bae0ea353d71192afe1a520aacb9374\n",
      "Field (vout): [\n",
      "    {\n",
      "        \"amount\": 0,\n",
      "        \"target\": {\n",
      "            \"tagged_key\": {\n",
      "                \"key\": \"6f598be2c3c473ccff7ad1fb42ed46660bae0ea353d71192afe1a520aacb9374\",\n",
      "                \"view_tag\": \"2a\"\n",
      "            }\n",
      "        }\n",
      "    },\n",
      "    {\n",
      "        \"amount\": 0,\n",
      "        \"target\": {\n",
      "            \"tagged_key\": {\n",
      "                \"key\": \"9cb1ec2a60e305dbb65c575c9bef4157ca1db7ae8d0a581aceb6f5c3855ad299\",\n",
      "                \"view_tag\": \"04\"\n",
      "            }\n",
      "        }\n",
      "    }\n",
      "]\n"
     ]
    }
   ],
   "source": [
    "'''\n",
    "Zero to Monero: Second Edition; Appendix A\n",
    "'''\n",
    "\n",
    "# read view tags from each of the two transaction outputs \n",
    "view_tag = vout[0][\"target\"][\"tagged_key\"][\"view_tag\"]\n",
    "view_tag_not_alice = vout[1][\"target\"][\"tagged_key\"][\"view_tag\"]\n",
    "\n",
    "# read stealth addresses from each of the two transaction outputs\n",
    "stealth_address = vout[0][\"target\"][\"tagged_key\"][\"key\"]\n",
    "stealth_address_not_alice = vout[1][\"target\"][\"tagged_key\"][\"key\"]\n",
    "\n",
    "\n",
    "print(f\"First output view tag: {view_tag}\")\n",
    "print(f\"First output stealth address: {stealth_address}\")\n",
    "print(f\"Field (vout): {json.dumps(vout, indent=4)}\")"
   ]
  },
  {
   "attachments": {},
   "cell_type": "markdown",
   "metadata": {},
   "source": [
    "The `rct_signatures` section contains a section named `ecdhInfo` with a list of items, with one item per recipient. Every transaction has at least two items in the list. In the most common case one of the two items is for the recipient and the other item is change being returned to the sender. As will be shown later the first list item was sent to Alice. The second list item will be used to show that Alice can see it is not addressed to her."
   ]
  },
  {
   "cell_type": "code",
   "execution_count": 4,
   "metadata": {},
   "outputs": [
    {
     "name": "stdout",
     "output_type": "stream",
     "text": [
      "First output encrypted amount: 51769df0938cf016\n",
      "Field (rct_signatures\\ecdhInfo): [\n",
      "    {\n",
      "        \"amount\": \"51769df0938cf016\"\n",
      "    },\n",
      "    {\n",
      "        \"amount\": \"8dec59af8eff53f1\"\n",
      "    }\n",
      "]\n"
     ]
    }
   ],
   "source": [
    "'''\n",
    "Zero to Monero: Second Edition; Appendix A\n",
    "'''\n",
    "\n",
    "# read view tags from each of the two transaction outputs \n",
    "amount_1 = amount[0][\"amount\"]\n",
    "amount_2 = amount[1][\"amount\"]\n",
    "\n",
    "print(f\"First output encrypted amount: {amount_1}\")\n",
    "print(f\"Field (rct_signatures\\ecdhInfo): {json.dumps(amount, indent=4)}\")"
   ]
  },
  {
   "attachments": {},
   "cell_type": "markdown",
   "metadata": {},
   "source": [
    "## 2. Calculating view tags\n",
    "\n",
    "A recently added feature to Monero is a single byte value included in a transaction that allows Alice to quickly \"check\" to see if an output is *likely* addressed to her. This quick check skips more computationally intensive calculations later. Including view tags drastically reduces the amount of time required to scan through millions of transactions on the blockchain."
   ]
  },
  {
   "cell_type": "code",
   "execution_count": 5,
   "metadata": {},
   "outputs": [
    {
     "name": "stdout",
     "output_type": "stream",
     "text": [
      "First output view tag (calculated): 2a\n",
      "First output view tag (from txn data): 2a\n"
     ]
    }
   ],
   "source": [
    "'''\n",
    "Not present in  Zero to Monero: Second Edition\n",
    "'''\n",
    "\n",
    "\n",
    "'''\n",
    "To calculate the view tag this code performs the following:\n",
    "\n",
    "  1. Multiplies the private view key by the transaction public key\n",
    "  2. Concatenates the string \"view_tag\" with the value created in step 1 and\n",
    "     an index identifying the output number (uses zero indexing)\n",
    "  3. Hashes this value with Keccack\n",
    "  4. Extracts the first byte from this hash\n",
    "'''\n",
    "\n",
    "import varint\n",
    "import nacl.bindings\n",
    "\n",
    "from Cryptodome.Hash import keccak\n",
    "from binascii import hexlify, unhexlify\n",
    "\n",
    "\n",
    "# define a function to return a hashed byte string\n",
    "def keccak_256(data) -> bytes:\n",
    "    return keccak.new(digest_bits=256).update(data).digest()\n",
    "\n",
    "# define a function that allows multiplying a curve point by a scalar (eg: integer)\n",
    "scalar_point_mult = nacl.bindings.crypto_scalarmult_ed25519_noclamp\n",
    "\n",
    "\n",
    "# previously calculated from Alice's mnemonic\n",
    "private_view_key = \"e04769b2067f76a7942c903f6782e75f2d2dd49437a6bb671e9d8ef09d9fc70b\"\n",
    "\n",
    "# Monero multiplies curve points by 8, create 8 in bytes for use in calculations\n",
    "cofactor = int(8).to_bytes(32, byteorder=\"little\")\n",
    "\n",
    "# multiply the private view key by rG to obtain rKv\n",
    "rKv = scalar_point_mult(unhexlify(private_view_key), unhexlify(rG))\n",
    "\n",
    "# multiply by 8, required by Monero\n",
    "rKv = scalar_point_mult(cofactor, rKv)\n",
    "\n",
    "# concatenate the string \"view_tag\", rKv, and a transaction index integer\n",
    "rKv_concat_extra_index = b\"view_tag\" + rKv + varint.encode(0)\n",
    "\n",
    "# hash the previously concatenated value to create H(rKv)\n",
    "HrKv = keccak_256(rKv_concat_extra_index)\n",
    "\n",
    "# the view tag is the first byte of this hashed string\n",
    "view_tag_calculated = HrKv[0:1]\n",
    "\n",
    "\n",
    "print(f\"First output view tag (calculated): {hexlify(view_tag_calculated).decode()}\")\n",
    "print(f\"First output view tag (from txn data): {view_tag}\")"
   ]
  },
  {
   "attachments": {},
   "cell_type": "markdown",
   "metadata": {},
   "source": [
    "For clarity the view tag for the second output will be calculated. The calculated view tag should **not** match transaction data because the second output is not addressed to Alice. The only difference in the calculation between the two outputs is that the transaction index changed from 0 to 1 for the second output."
   ]
  },
  {
   "cell_type": "code",
   "execution_count": 6,
   "metadata": {},
   "outputs": [
    {
     "name": "stdout",
     "output_type": "stream",
     "text": [
      "Second output view tag (calculated): 68\n",
      "Second output view tag (from txn data): 04\n"
     ]
    }
   ],
   "source": [
    "# concatenate the string \"view_tag\", rKv, and a transaction index integer\n",
    "rKv_concat_extra_index = b\"view_tag\" + rKv + varint.encode(1)\n",
    "\n",
    "# hash the previously concatenated value to create H(rKv)\n",
    "HrKv = keccak_256(rKv_concat_extra_index)\n",
    "\n",
    "# the view tag is the first byte of this hashed string\n",
    "view_tag_calculated = HrKv[0:1]\n",
    "\n",
    "\n",
    "print(f\"Second output view tag (calculated): {hexlify(view_tag_calculated).decode()}\")\n",
    "print(f\"Second output view tag (from txn data): {view_tag_not_alice}\")"
   ]
  },
  {
   "attachments": {},
   "cell_type": "markdown",
   "metadata": {},
   "source": [
    "## 3. Identifying owned outputs\n",
    "\n",
    "Alice has identified that the first output is *likely* to be hers. To confirm this is true she will perform calculations to explicitly confirm the output was addressed to her. To do this she will perform calculations with the stealth address and then compare the result to her public spend key. If the result matches her public spend key then the output meant for her. If the output was not destined for her, this calculation would **not** reveal the public spend key for anyone else (the calculation results would be useless)."
   ]
  },
  {
   "cell_type": "code",
   "execution_count": 7,
   "metadata": {},
   "outputs": [
    {
     "name": "stdout",
     "output_type": "stream",
     "text": [
      "Public spend key (calculated): cac88399eed832989df44ae91a0df5650040be8cfbe21b9570466432e6286d37\n",
      "Public spend key (actual): cac88399eed832989df44ae91a0df5650040be8cfbe21b9570466432e6286d37\n"
     ]
    }
   ],
   "source": [
    "'''\n",
    "Zero to Monero: Second Edition; Section 4.2\n",
    "'''\n",
    "\n",
    "\n",
    "'''\n",
    "To identify owned outputs this code performs the following:\n",
    "\n",
    "  1. Multiplies the private view key by the transaction public key\n",
    "  2. Concatenates the value created in step 1 and an index identifying \n",
    "     the output number (uses zero indexing)\n",
    "  3. Hashes this value with Keccack\n",
    "  4. Multiplies this by G to create a new curve point\n",
    "  5. Subtracts this point from the stealth address to obtain an expected\n",
    "     public spend key\n",
    "'''\n",
    "\n",
    "import nacl.bindings\n",
    "\n",
    "\n",
    "# define a function to return a hashed byte string\n",
    "def keccak_256(data):\n",
    "    return keccak.new(digest_bits=256).update(data).digest()\n",
    "\n",
    "# define a function to convert an integer into a valid ed25519 scalar\n",
    "def pad_and_reduce(scalar: bytes) -> bytes:\n",
    "    point_padded_to_64_bytes = scalar + (64 - len(scalar)) * b\"\\0\"\n",
    "    return nacl.bindings.crypto_core_ed25519_scalar_reduce(point_padded_to_64_bytes)\n",
    "\n",
    "# define a function to multiply the ed25519 generator point G by a scalar (eg: integer)\n",
    "scalar_mult_G = nacl.bindings.crypto_scalarmult_ed25519_base_noclamp\n",
    "\n",
    "# define a function to add to curve points\n",
    "point_add = nacl.bindings.crypto_core_ed25519_add\n",
    "\n",
    "# define a function to subtract curve point p2 from curve point p1\n",
    "point_sub = nacl.bindings.crypto_core_ed25519_sub\n",
    "\n",
    "\n",
    "# previously calculated from Alice's mnemonic\n",
    "public_spend_key = \"cac88399eed832989df44ae91a0df5650040be8cfbe21b9570466432e6286d37\"\n",
    "\n",
    "\n",
    "### begin section: this is repeated from the view tag section for clarity\n",
    "scalar_point_mult = nacl.bindings.crypto_scalarmult_ed25519_noclamp\n",
    "private_view_key = \"e04769b2067f76a7942c903f6782e75f2d2dd49437a6bb671e9d8ef09d9fc70b\"\n",
    "cofactor = int(8).to_bytes(32, byteorder=\"little\")\n",
    "rKv = scalar_point_mult(unhexlify(private_view_key), unhexlify(rG))\n",
    "rKv = scalar_point_mult(cofactor, rKv)\n",
    "rKv_concat_extra_index = rKv + varint.encode(0)\n",
    "HrKv = keccak_256(rKv_concat_extra_index)\n",
    "### end section\n",
    "\n",
    "\n",
    "# confirm hash is a valid curve scalar\n",
    "HrKv = pad_and_reduce(HrKv)\n",
    "\n",
    "# multiply the scalar by the ed25519 generator point to obtain a new curve point\n",
    "HrKvG = scalar_mult_G(HrKv)\n",
    "\n",
    "# calculate an expected public spend key: K's = stealth address - H(rKv)G\n",
    "public_spend_key_calculated = point_sub(unhexlify(stealth_address), HrKvG)\n",
    "\n",
    "# recalculate the stealth address for clarity: stealth address  = H(rKv)G + public_spend_key\n",
    "stealth_address_calculated = point_add(HrKvG, unhexlify(public_spend_key))\n",
    "\n",
    "\n",
    "print(f\"Public spend key (calculated): {hexlify(public_spend_key_calculated).decode()}\")\n",
    "print(f\"Public spend key (actual): {public_spend_key}\")"
   ]
  },
  {
   "attachments": {},
   "cell_type": "markdown",
   "metadata": {},
   "source": [
    "Intuition behind stealth addresses:\n",
    "\n",
    "Imagine a person named Prince wants to send Monero to Alice but wants to creat a new address that only that person and Alice know. Prince has access to Alice's normal address and thus her public spend and view keys. Alice of course has access to her public/private spend/view keys.\n",
    "\n",
    "Prince wants to build up a shared secret so he starts with what he has (public keys) and works towards that goal with the following reasoning:\n",
    "1. Prince could hash Alice's public view key, ensure the hash is a valid curve scalar and then multiply that by G to get a new public key. That would be a new address but anyone with Alice's public view key would be able to derive everything. That's not a shared secret.\n",
    "2. Prince creates a random number `r` and calculates `rK`. Alice can calculate `k(rG)`. Both of those are the same, but Alice only needs `rG`. It is not possible to recover `r` from `rG` so Prince can put `rG` in transaction data without worrying that someone else can calcualate `r`. \n",
    "    * Why is it important to hide `r` from outside observers? \n",
    "        * Anyone with Alice's Monero address has access to her public keys, and using `r` could recreate the stealth address: H(rKv) + Ks. That's not a shared secret. But hiding `r` creates a shared secret.\n",
    "    * For clarity:\n",
    "        * `rK` = `rkG` = `krG`\n",
    "        * Adding parenthesis for clarity: `rK` = `r(kG)` = `k(rG)`\n",
    "3. Prince adds Alice's public spend key to the prior data to create `H(rKv)G` + `Ks`. Both Prince and Alice can create this address. This value is equal to [`H(rKv)` + `ks`]`G` which means the private key is `H(rKv)` + `ks`. Prince has created an address that only he and Alice can create but with a private key that only Alice can create.\n",
    "    * What's wrong with just using `H(rKv)G`?\n",
    "        * The private key for `K(rKv)G` is the portion before the final `G`, `H(rKv)`. Prince obviously has access to that which means Prince would be able to spend that output. That's not good.\n",
    "\n",
    "\n",
    "An evil third party who has access to Alice's address has her public keys (`Kv`, `Ks`), and `rG` from the transaction data. What can they calculate? `rKvG` + `Ks`. **That is completely different from `rkvG` + `Ks` (the value Alice calculated). In the same way it is completely different from `rKv` + `Ks` (the value Prince calculated).\n",
    "\n",
    "There are two pieces of data used and the reason for those are as follows:\n",
    "* `r`: The value r is hidden from evil third parties but can be used directly by Prince and indirectly (rG) by Alice to create the same result.\n",
    "* `Ks`: The public spend key is added because Prince does not know the corresponding private key and thus cannot calculate the stealth address private key.\n",
    "\n",
    "Prince: Easily creates the one time address and publishes the stealth address [`H(rKv)G` + `Ks`], and `rG`.\n",
    "Alice: Uses `rG` to recreate [`H(rkvG)G` + `Ks`], and the corresponding private key.\n",
    "Evil third party: Cannot use `rG` to recreate the value even if they have access to Alice's public keys."
   ]
  },
  {
   "attachments": {},
   "cell_type": "markdown",
   "metadata": {},
   "source": [
    "For clarity the same calculations will be performed on the second stealth address. The calculated public spend key should **not** match Alice's public spend key because the second output is not addressed to Alice. Similar to the second view tag calculation, the only difference in the calculation between the two outputs is that the transaction index changed from 0 to 1 for the second output.\n",
    "\n",
    "As a reminder, the expected public spend key created here is **not** the true recipient's public spend key."
   ]
  },
  {
   "cell_type": "code",
   "execution_count": 8,
   "metadata": {},
   "outputs": [
    {
     "name": "stdout",
     "output_type": "stream",
     "text": [
      "Public spend key (calculated): 9b4607f964ddd978604f3eb268221ce39fa699e732d2eebfbddd3a0fbe338b77\n",
      "Public spend key (actual): cac88399eed832989df44ae91a0df5650040be8cfbe21b9570466432e6286d37\n"
     ]
    }
   ],
   "source": [
    "# concatenate rKv and an index corresponding to the transaction number (ex: first transaction = 0, second transaction = 1, etc)\n",
    "rKv_concat_extra_index = rKv + varint.encode(1)\n",
    "\n",
    "# hash the results: H(rKv) = (8 * r * public_view_key) + transaction_index = rKv || transaction_index\n",
    "HrKv = keccak_256(rKv_concat_extra_index)\n",
    "\n",
    "# confirm hash is a valid curve scalar\n",
    "HrKv = pad_and_reduce(HrKv)\n",
    "\n",
    "# multiply the scalar by the ed25519 generator point to obtain a new curve point\n",
    "HrKvG = scalar_mult_G(HrKv)\n",
    "\n",
    "# K's = K0 - H(rKv)G\n",
    "public_spend_key_calculated = point_sub(unhexlify(stealth_address_not_alice), HrKvG)\n",
    "print(f\"Public spend key (calculated): {hexlify(public_spend_key_calculated).decode()}\")\n",
    "print(f\"Public spend key (actual): {public_spend_key}\")"
   ]
  },
  {
   "attachments": {},
   "cell_type": "markdown",
   "metadata": {},
   "source": [
    "## 4. Decrypting payment id\n",
    "\n",
    "Monero transactions always include a payment id. If a payment id is not specified by the sender the payment id should be all zeros but encrypted in such a way that only the sender and Alice can recover it. "
   ]
  },
  {
   "cell_type": "code",
   "execution_count": 9,
   "metadata": {},
   "outputs": [
    {
     "name": "stdout",
     "output_type": "stream",
     "text": [
      "Encrypted payment id: 4a0094809c81cdb9\n",
      "Decrypted payment id: 0000000000000000\n"
     ]
    }
   ],
   "source": [
    "'''\n",
    "Zero to Monero: Second Edition; Section 4.4 (but applied to regular addresses not integrated addresses)\n",
    "'''\n",
    "\n",
    "\n",
    "'''\n",
    "To recover the paymend id this code performs the following:\n",
    "\n",
    "  1. Concatenates the value rKv and a Monero constant (the integer 141 as bytes)\n",
    "  2. Creates an obfuscation mask from the value in step 1\n",
    "  3. Recovers the payment id by applying bitwise xor operation with the value from step 2 \n",
    "'''\n",
    "\n",
    "# define a function to calculate exclusive or between bits in two variables\n",
    "def calculate_xor(var1, var2):\n",
    "    return bytearray(a ^ b for a, b in zip(*map(bytearray, (var1, var2))))\n",
    "\n",
    "\n",
    "# convert the number 141 to bytes \n",
    "encrypted_payment_id_tail = int(141).to_bytes()\n",
    "\n",
    "# create obfuscation mask\n",
    "payment_id_mask = rKv + encrypted_payment_id_tail\n",
    "payment_id_mask = keccak_256(payment_id_mask)\n",
    "\n",
    "# convert encrypted payment id to bytes\n",
    "encrypted_payment_id_bytes = bytes.fromhex(encrypted_payment_id)\n",
    "\n",
    "# truncate obfuscation mask to length of encrypted payment id\n",
    "truncated_payment_id_mask = payment_id_mask[: len(encrypted_payment_id_bytes)]\n",
    "\n",
    "# apply binary xor operation to encrypted payment id\n",
    "decrypted_payment_id_bytes = calculate_xor(truncated_payment_id_mask, encrypted_payment_id_bytes)\n",
    "\n",
    "\n",
    "print(f\"Encrypted payment id: {encrypted_payment_id}\")\n",
    "print(f\"Decrypted payment id: {decrypted_payment_id_bytes.hex()}\")"
   ]
  },
  {
   "attachments": {},
   "cell_type": "markdown",
   "metadata": {},
   "source": [
    "## 5. Decrypting payment amount\n",
    "\n",
    "The amount Alice received is encoded in the `amount` field. It is encoded by using the shared secret `HrKv` to encrypt/decrypt the data. The amount is also contained in another field that will be addressed in a later step. "
   ]
  },
  {
   "cell_type": "code",
   "execution_count": 10,
   "metadata": {},
   "outputs": [
    {
     "name": "stdout",
     "output_type": "stream",
     "text": [
      "Encrypted amount: 51769df0938cf016\n",
      "Decrypted amount (piconero): 69300000\n",
      "Decrypted amount (Monero): 0.000069300000\n"
     ]
    }
   ],
   "source": [
    "'''\n",
    "Zero to Monero: Second Edition; Section 5.3 (not including the commitment part)\n",
    "'''\n",
    "\n",
    "\n",
    "'''\n",
    "To recover the payment amount this code performs the following:\n",
    "\n",
    "  1. Recreates HrKv\n",
    "  2. Concatentates the string \"amount\" to the value from step 1\n",
    "  3. Hashes the value in step 2 to create a mask\n",
    "  4. Truncates the mask to the length of the amount field\n",
    "  5. Applies bitwise xor to the amount field using the mask\n",
    "  6. Converts the results to an integer to represent piconeros\n",
    "'''\n",
    "\n",
    "from decimal import Decimal\n",
    "\n",
    "\n",
    "# define a function to convert an integer into a valid ed25519 scalar\n",
    "def pad_and_reduce(point):\n",
    "    point_padded_to_64_bytes = point + (64 - len(point)) * b\"\\0\"\n",
    "    return nacl.bindings.crypto_core_ed25519_scalar_reduce(point_padded_to_64_bytes)\n",
    "\n",
    "\n",
    "piconero = Decimal(\"0.000000000001\")\n",
    "\n",
    "\n",
    "### begin section: this is repeated from the view tag section for clarity\n",
    "scalar_point_mult = nacl.bindings.crypto_scalarmult_ed25519_noclamp\n",
    "private_view_key = \"e04769b2067f76a7942c903f6782e75f2d2dd49437a6bb671e9d8ef09d9fc70b\"\n",
    "cofactor = int(8).to_bytes(32, byteorder=\"little\")\n",
    "rKv = scalar_point_mult(unhexlify(private_view_key), unhexlify(rG))\n",
    "rKv = scalar_point_mult(cofactor, rKv)\n",
    "rKv_concat_extra_index = rKv + varint.encode(0)\n",
    "HrKv = keccak_256(rKv_concat_extra_index)\n",
    "### end section\n",
    "\n",
    "# ensure the hash is a valid scalar\n",
    "amount_mask = pad_and_reduce(HrKv)\n",
    "\n",
    "# calculate Keccak hash of concatenated \"amount\" and scalar\n",
    "amount_mask = keccak_256(b\"amount\" + amount_mask)\n",
    "\n",
    "# truncate obfuscation mask to length of amount field\n",
    "truncated_amount_mask = amount_mask[: len(unhexlify(amount_1))]\n",
    "\n",
    "# apply binary xor operation to encrypted amount\n",
    "decrypted_amount = calculate_xor(unhexlify(amount_1), truncated_amount_mask)\n",
    "\n",
    "# convert decrypted amount to an integer and convert units to Monero instead of piconero\n",
    "decrypted_amount = int.from_bytes(decrypted_amount, byteorder=\"little\")\n",
    "\n",
    "print(f\"Encrypted amount: {amount_1}\")\n",
    "print(f\"Decrypted amount (piconero): {decrypted_amount}\")\n",
    "print(f\"Decrypted amount (Monero): {decrypted_amount * piconero}\")"
   ]
  },
  {
   "attachments": {},
   "cell_type": "markdown",
   "metadata": {},
   "source": [
    "\n",
    "## Summary (Conclusion)\n",
    "**What we need (previousy calculated):**\n",
    "* Alice's private view key: `e04769b2067f76a7942c903f6782e75f2d2dd49437a6bb671e9d8ef09d9fc70b`\n",
    "* Alice's public spend key: `cac88399eed832989df44ae91a0df5650040be8cfbe21b9570466432e6286d37`\n",
    "* Alice's public view key: `b981d77369cbf23725d61cceb6f6686b7e435ca52e2ccf518f560cc71fc54867`\n",
    "\n",
    "**What we start with (from the transaction data):**\n",
    "* view tag: `2a`\n",
    "* stealth address: `6f598be2c3c473ccff7ad1fb42ed46660bae0ea353d71192afe1a520aacb9374`\n",
    "* rG: `587a7d33f0b28ee85cfeeee0da7cab9ff5c348a648fee350099f95ccf2e3cc39`\n",
    "* encrypted payment id: `4a0094809c81cdb9`\n",
    "* encrypted amount: `51769df0938cf016`\n",
    "\n",
    "**What we end up with:**\n",
    "* decrypted payment id: `0000000000000000`\n",
    "* decrypted amount (piconero): `69300000`"
   ]
  }
 ],
 "metadata": {
  "kernelspec": {
   "display_name": "monero-tutorial",
   "language": "python",
   "name": "python3"
  },
  "language_info": {
   "codemirror_mode": {
    "name": "ipython",
    "version": 3
   },
   "file_extension": ".py",
   "mimetype": "text/x-python",
   "name": "python",
   "nbconvert_exporter": "python",
   "pygments_lexer": "ipython3",
   "version": "3.11.3"
  },
  "orig_nbformat": 4
 },
 "nbformat": 4,
 "nbformat_minor": 2
}
